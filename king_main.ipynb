{
 "cells": [
  {
   "cell_type": "code",
   "execution_count": 1,
   "metadata": {},
   "outputs": [],
   "source": [
    "#Importing relevant packages and King county data\n",
    "import pandas as pd\n",
    "import numpy as np\n",
    "import matplotlib.pyplot as plt\n",
    "import seaborn as sns\n",
    "from sklearn import metrics\n",
    "from sklearn.preprocessing import OneHotEncoder, StandardScaler, OrdinalEncoder\n",
    "from sklearn.linear_model import LinearRegression\n",
    "from sklearn.model_selection import train_test_split\n",
    "import itertools\n",
    "from numbers import Number\n",
    "from scipy import stats\n",
    "import statsmodels.api as sm\n",
    "from scipy.stats import pearsonr\n",
    "from statsmodels.formula.api import ols\n",
    "from sklearn.dummy import DummyRegressor\n",
    "%matplotlib inline\n",
    "\n",
    "\n",
    "df = pd.read_csv(\"data/kc_house_data.csv\",parse_dates=['date'], index_col=0)"
   ]
  },
  {
   "cell_type": "code",
   "execution_count": 2,
   "metadata": {
    "scrolled": true
   },
   "outputs": [],
   "source": [
    "#Dropping columns that were suggested not to use, except date and zipcode\n",
    "df.drop(['view', 'sqft_above', 'sqft_basement', 'yr_renovated', 'lat', 'long', 'sqft_living15', 'sqft_lot15', 'waterfront'], \n",
    "        axis=1, inplace=True)\n",
    "\n",
    "\n",
    "#Creating price per square foot column\n",
    "df['price_sqft'] = df['price'] / df['sqft_living']"
   ]
  },
  {
   "cell_type": "code",
   "execution_count": 3,
   "metadata": {},
   "outputs": [],
   "source": [
    "#Creating map for zipcodes\n",
    "zip_map = {\n",
    "    98001:'Suburbs', 98002:'Suburbs', 98003:'Suburbs', 98004:'Suburbs', 98005:'Suburbs',\n",
    "    98006:'Suburbs', 98007:'Suburbs',98008:'Suburbs', 98010:'Rural', 98011:'Suburbs', \n",
    "    98014:'Rural', 98019:'Rural', 98022:'Rural', 98023:'Suburbs', 98024:'Rural', \n",
    "    98027:'Rural', 98028:'Suburbs', 98029:'Suburbs', 98030:'Suburbs', 98031:'Suburbs',\n",
    "    98032:'Suburbs', 98033:'Suburbs', 98034:'Suburbs', 98038:'Rural', 98039:'Suburbs',\n",
    "    98040:'Suburbs', 98042:'Rural', 98045:'Rural', 98052:'Suburbs', 98053:'Rural',\n",
    "    98055:'Suburbs', 98056:'Suburbs', 98058:'Suburbs', 98059:'Suburbs', 98065:'Rural',\n",
    "    98070:'Suburbs', 98072:'Suburbs', 98074:'Suburbs', 98075:'Suburbs', 98077:'Rural',\n",
    "    98092:'Suburbs', 98102:'Seattle', 98103:'Seattle', 98105:'Seattle', 98106:'Seattle',\n",
    "    98107:'Seattle', 98108:'Seattle', 98109:'Seattle', 98112:'Seattle', 98115:'Seattle', \n",
    "    98116:'Seattle', 98117:'Seattle', 98118:'Seattle', 98119:'Seattle', 98122:'Seattle',\n",
    "    98125:'Seattle', 98126:'Seattle', 98133:'Seattle', 98136:'Seattle', 98144:'Seattle', \n",
    "    98146:'Seattle', 98148:'Seattle', 98155:'Seattle', 98166:'Seattle', 98168:'Seattle',\n",
    "    98177:'Seattle', 98178:'Seattle', 98188:'Seattle', 98198:'Seattle', 98199:'Seattle'\n",
    "    }\n",
    "\n",
    "#creating a map for condition since there are low values of Poor and Fair compared to the other categorical variables\n",
    "condition_map = {\n",
    "                 'Poor': 0,\n",
    "                 'Fair': 1,\n",
    "                 'Average': 2,\n",
    "                 'Good': 3,\n",
    "                 'Very Good': 4\n",
    "                }\n",
    "\n",
    "#mapping grade map\n",
    "grade_map = {\n",
    "             '3 Poor': 3,\n",
    "             '4 Low': 4,\n",
    "             '5 Fair': 5,\n",
    "             '6 Low Average': 6,\n",
    "             '7 Average': 7,\n",
    "             '8 Good': 8,\n",
    "             '9 Better': 9,\n",
    "             '10 Very Good': 10,\n",
    "             '11 Excellent': 11,\n",
    "             '12 Luxury': 12,\n",
    "             '13 Mansion': 13\n",
    "            }\n",
    "\n",
    "# Adding maps to dataframe & dropping columns that were mapped\n",
    "df['zones'] = df['zipcode'].map(zip_map)\n",
    "df.drop('zipcode', axis=1, inplace=True);\n",
    "df['cond_num'] = df['condition'].map(condition_map)\n",
    "df.drop('condition', axis = 1, inplace=True);\n",
    "df['grade_num'] = df['grade'].map(grade_map)\n",
    "df.drop('grade', axis = 1, inplace=True);"
   ]
  },
  {
   "cell_type": "markdown",
   "metadata": {},
   "source": [
    "Sorted zipcodes with following sources\n",
    "- website =  https://www.unitedstateszipcodes.org/wa/ \n",
    "- map = https://aqua.kingcounty.gov/gis/web/VMC/boundaries/zipcodes/zipcodes.pdf"
   ]
  },
  {
   "cell_type": "markdown",
   "metadata": {},
   "source": [
    "# Things to do for Model\n",
    "- Standard Scaler\n",
    "- linear regression "
   ]
  },
  {
   "cell_type": "code",
   "execution_count": 4,
   "metadata": {},
   "outputs": [
    {
     "data": {
      "text/plain": [
       "0.0"
      ]
     },
     "execution_count": 4,
     "metadata": {},
     "output_type": "execute_result"
    }
   ],
   "source": [
    "#Dummymodel creation and evaluation\n",
    "dummymodel = DummyRegressor(strategy = \"mean\")\n",
    "X = df.drop(columns ='price', axis = 1)\n",
    "y = df['price']\n",
    "dummymodel = dummymodel.fit(X, y)\n",
    "\n",
    "dummymodel.predict(X)\n",
    "dummymodel.predict(y)\n",
    "dummymodel.score(X, y)"
   ]
  },
  {
   "cell_type": "markdown",
   "metadata": {},
   "source": [
    "# Ordinal & One Hot Encoder\n",
    "Can do OrdinalEncoder directly on condition and grade but might be better to bin them since there are a fair amount of unique values for both which could cause multicollinearlity.\n",
    "\n",
    "For condition:\n",
    "\n",
    "- Poor\n",
    "- Fair\n",
    "- Average\n",
    "- Good\n",
    "- Very Good\n",
    "\n",
    "\n",
    "For grade:\n",
    "\n",
    "- 7 Average\n",
    "- 8 Good\n",
    "- 9 Better\n",
    "- 6 Low Average\n",
    "- 10 Very Good\n",
    "- 11 Excellent\n",
    "- 5 Fair\n",
    "- 12 Luxury\n",
    "- 4 Low\n",
    "- 13 Mansion\n",
    "- 3 Poor\n",
    "\n",
    "Zipcode:\n",
    "- Rural\n",
    "- Suburbs\n",
    "- Seattle"
   ]
  },
  {
   "cell_type": "code",
   "execution_count": 5,
   "metadata": {
    "scrolled": true
   },
   "outputs": [],
   "source": [
    "#defining X & y\n",
    "X = df.drop(columns='price', axis=1)\n",
    "y = df['price']\n",
    "\n",
    "#Train test split\n",
    "X_train, X_test, y_train, y_test = train_test_split(X, y, test_size=0.20, random_state=42)\n",
    "\n",
    "#creating a train df and test df\n",
    "train_kch = pd.concat([X_train, y_train], axis=1)\n",
    "test_kch = pd.concat([X_test, y_test], axis=1)"
   ]
  },
  {
   "cell_type": "code",
   "execution_count": 6,
   "metadata": {},
   "outputs": [],
   "source": [
    "#Creating variables storing our Ordinal & One Hot Encoding columns\n",
    "train_kch_cat = train_kch[['cond_num', 'grade_num']]\n",
    "train_kch_zones = train_kch[['zones']] \n",
    "test_kch_cat = test_kch[['cond_num', 'grade_num']]\n",
    "test_kch_zones = test_kch[['zones']]\n",
    "\n",
    "#Initializing Ordinal and One Hot\n",
    "ore = OrdinalEncoder()\n",
    "ore.fit(train_kch_cat)\n",
    "ohe = OneHotEncoder()\n",
    "ohe.fit(train_kch_zones)\n",
    "\n",
    "\n",
    "#Applying Ordinal and One Hot to our Train and Test\n",
    "ohe_transform = ohe.transform(train_kch_zones)\n",
    "zones_encoded = pd.DataFrame(ohe_transform, columns =['zones'], \n",
    "                           index= train_kch_zones.index)\n",
    "\n",
    "ohe_test_transform = ohe.transform(test_kch_zones)\n",
    "zones_encoded_test = pd.DataFrame(ohe_test_transform, columns =['zones'],\n",
    "                          index= test_kch_zones.index)\n",
    "\n",
    "ore_transform = ore.transform(train_kch_cat)\n",
    "cat_encoded = pd.DataFrame(ore_transform, columns = ['cond_num_cat','grade_num_cat'], \n",
    "                          index=train_kch_cat.index)\n",
    "\n",
    "ore_test_transform = ore.transform(test_kch_cat)\n",
    "cat_encoded_test = pd.DataFrame(ore_test_transform, columns = ['cond_num_cat','grade_num_cat'], \n",
    "                          index=test_kch_cat.index)\n",
    "\n"
   ]
  },
  {
   "cell_type": "markdown",
   "metadata": {},
   "source": [
    "# Standard Scaling"
   ]
  },
  {
   "cell_type": "code",
   "execution_count": 7,
   "metadata": {},
   "outputs": [],
   "source": [
    "#standard scaling the numerical values dropping categorical and target \n",
    "#training data\n",
    "X_train_kch_nums = train_kch.drop(['cond_num', 'grade_num', \n",
    "                                   'zones','date', 'price'], axis=1)\n",
    "y_train_kch = train_kch['price']\n",
    "\n",
    "#testing data\n",
    "X_test_kch_nums = test_kch.drop(['cond_num','grade_num', \n",
    "                                'zones','date', 'price'], axis=1)\n",
    "y_test_kch = test_kch['price']\n",
    "\n",
    "#Standardized Scaler - fit to training x\n",
    "ss = StandardScaler().fit(X_train_kch_nums)\n",
    "\n",
    "#training data - transform\n",
    "X_train_scaled = pd.DataFrame(ss.transform(X_train_kch_nums), columns=X_train_kch_nums.columns, index=X_train_kch_nums.index)\n",
    "\n",
    "\n",
    "#testing data - transform\n",
    "X_test_scaled = pd.DataFrame(ss.transform(X_test_kch_nums), columns=X_test_kch_nums.columns, index=X_test_kch_nums.index)"
   ]
  },
  {
   "cell_type": "code",
   "execution_count": 8,
   "metadata": {},
   "outputs": [],
   "source": [
    "#now can join the two separate variables - standardized and numerical\n",
    "train_kch = pd.concat([X_train_scaled, cat_encoded, zones_encoded, y_train_kch],axis=1)"
   ]
  },
  {
   "cell_type": "markdown",
   "metadata": {},
   "source": [
    "# Linear & Multilinear Regression"
   ]
  },
  {
   "cell_type": "code",
   "execution_count": 9,
   "metadata": {},
   "outputs": [
    {
     "data": {
      "text/plain": [
       "LinearRegression()"
      ]
     },
     "execution_count": 9,
     "metadata": {},
     "output_type": "execute_result"
    }
   ],
   "source": [
    "#Initializing LinearRegression\n",
    "lr = LinearRegression()\n",
    "lr.fit(X_train_scaled, y_train_kch)"
   ]
  },
  {
   "cell_type": "code",
   "execution_count": 10,
   "metadata": {},
   "outputs": [
    {
     "data": {
      "text/plain": [
       "array([ -3827.43294489,  15885.83924002, 275324.80577021,  -9194.22221413,\n",
       "        -9601.6626288 ,  -3407.5311024 , 229873.74813297])"
      ]
     },
     "execution_count": 10,
     "metadata": {},
     "output_type": "execute_result"
    }
   ],
   "source": [
    "lr.coef_"
   ]
  },
  {
   "cell_type": "code",
   "execution_count": 11,
   "metadata": {},
   "outputs": [
    {
     "data": {
      "text/plain": [
       "541519.0094345082"
      ]
     },
     "execution_count": 11,
     "metadata": {},
     "output_type": "execute_result"
    }
   ],
   "source": [
    "lr.intercept_"
   ]
  },
  {
   "cell_type": "code",
   "execution_count": 12,
   "metadata": {},
   "outputs": [
    {
     "data": {
      "text/plain": [
       "0.8826148053074151"
      ]
     },
     "execution_count": 12,
     "metadata": {},
     "output_type": "execute_result"
    }
   ],
   "source": [
    "lr.score(X_train_scaled, y_train_kch)"
   ]
  },
  {
   "cell_type": "code",
   "execution_count": 13,
   "metadata": {},
   "outputs": [
    {
     "data": {
      "text/html": [
       "<table class=\"simpletable\">\n",
       "<caption>OLS Regression Results</caption>\n",
       "<tr>\n",
       "  <th>Dep. Variable:</th>          <td>price</td>      <th>  R-squared:         </th>  <td>   0.493</td>  \n",
       "</tr>\n",
       "<tr>\n",
       "  <th>Model:</th>                   <td>OLS</td>       <th>  Adj. R-squared:    </th>  <td>   0.493</td>  \n",
       "</tr>\n",
       "<tr>\n",
       "  <th>Method:</th>             <td>Least Squares</td>  <th>  F-statistic:       </th>  <td>2.097e+04</td> \n",
       "</tr>\n",
       "<tr>\n",
       "  <th>Date:</th>             <td>Tue, 13 Sep 2022</td> <th>  Prob (F-statistic):</th>   <td>  0.00</td>   \n",
       "</tr>\n",
       "<tr>\n",
       "  <th>Time:</th>                 <td>14:27:47</td>     <th>  Log-Likelihood:    </th> <td>-3.0006e+05</td>\n",
       "</tr>\n",
       "<tr>\n",
       "  <th>No. Observations:</th>      <td> 21597</td>      <th>  AIC:               </th>  <td>6.001e+05</td> \n",
       "</tr>\n",
       "<tr>\n",
       "  <th>Df Residuals:</th>          <td> 21595</td>      <th>  BIC:               </th>  <td>6.001e+05</td> \n",
       "</tr>\n",
       "<tr>\n",
       "  <th>Df Model:</th>              <td>     1</td>      <th>                     </th>      <td> </td>     \n",
       "</tr>\n",
       "<tr>\n",
       "  <th>Covariance Type:</th>      <td>nonrobust</td>    <th>                     </th>      <td> </td>     \n",
       "</tr>\n",
       "</table>\n",
       "<table class=\"simpletable\">\n",
       "<tr>\n",
       "       <td></td>          <th>coef</th>     <th>std err</th>      <th>t</th>      <th>P>|t|</th>  <th>[0.025</th>    <th>0.975]</th>  \n",
       "</tr>\n",
       "<tr>\n",
       "  <th>const</th>       <td>-4.399e+04</td> <td> 4410.023</td> <td>   -9.975</td> <td> 0.000</td> <td>-5.26e+04</td> <td>-3.53e+04</td>\n",
       "</tr>\n",
       "<tr>\n",
       "  <th>sqft_living</th> <td>  280.8630</td> <td>    1.939</td> <td>  144.819</td> <td> 0.000</td> <td>  277.062</td> <td>  284.664</td>\n",
       "</tr>\n",
       "</table>\n",
       "<table class=\"simpletable\">\n",
       "<tr>\n",
       "  <th>Omnibus:</th>       <td>14801.942</td> <th>  Durbin-Watson:     </th>  <td>   1.982</td> \n",
       "</tr>\n",
       "<tr>\n",
       "  <th>Prob(Omnibus):</th>  <td> 0.000</td>   <th>  Jarque-Bera (JB):  </th> <td>542662.604</td>\n",
       "</tr>\n",
       "<tr>\n",
       "  <th>Skew:</th>           <td> 2.820</td>   <th>  Prob(JB):          </th>  <td>    0.00</td> \n",
       "</tr>\n",
       "<tr>\n",
       "  <th>Kurtosis:</th>       <td>26.901</td>   <th>  Cond. No.          </th>  <td>5.63e+03</td> \n",
       "</tr>\n",
       "</table><br/><br/>Notes:<br/>[1] Standard Errors assume that the covariance matrix of the errors is correctly specified.<br/>[2] The condition number is large, 5.63e+03. This might indicate that there are<br/>strong multicollinearity or other numerical problems."
      ],
      "text/plain": [
       "<class 'statsmodels.iolib.summary.Summary'>\n",
       "\"\"\"\n",
       "                            OLS Regression Results                            \n",
       "==============================================================================\n",
       "Dep. Variable:                  price   R-squared:                       0.493\n",
       "Model:                            OLS   Adj. R-squared:                  0.493\n",
       "Method:                 Least Squares   F-statistic:                 2.097e+04\n",
       "Date:                Tue, 13 Sep 2022   Prob (F-statistic):               0.00\n",
       "Time:                        14:27:47   Log-Likelihood:            -3.0006e+05\n",
       "No. Observations:               21597   AIC:                         6.001e+05\n",
       "Df Residuals:                   21595   BIC:                         6.001e+05\n",
       "Df Model:                           1                                         \n",
       "Covariance Type:            nonrobust                                         \n",
       "===============================================================================\n",
       "                  coef    std err          t      P>|t|      [0.025      0.975]\n",
       "-------------------------------------------------------------------------------\n",
       "const       -4.399e+04   4410.023     -9.975      0.000   -5.26e+04   -3.53e+04\n",
       "sqft_living   280.8630      1.939    144.819      0.000     277.062     284.664\n",
       "==============================================================================\n",
       "Omnibus:                    14801.942   Durbin-Watson:                   1.982\n",
       "Prob(Omnibus):                  0.000   Jarque-Bera (JB):           542662.604\n",
       "Skew:                           2.820   Prob(JB):                         0.00\n",
       "Kurtosis:                      26.901   Cond. No.                     5.63e+03\n",
       "==============================================================================\n",
       "\n",
       "Notes:\n",
       "[1] Standard Errors assume that the covariance matrix of the errors is correctly specified.\n",
       "[2] The condition number is large, 5.63e+03. This might indicate that there are\n",
       "strong multicollinearity or other numerical problems.\n",
       "\"\"\""
      ]
     },
     "execution_count": 13,
     "metadata": {},
     "output_type": "execute_result"
    }
   ],
   "source": [
    "#Here is our first model, just a simple linear regression between price and square feet\n",
    "# I want to try and bring the R2 value up more\n",
    "\n",
    "y2 = df['price']\n",
    "X_baseline = df['sqft_living']\n",
    "\n",
    "baseline_model = sm.OLS(y2, sm.add_constant(X_baseline))\n",
    "baseline_results = baseline_model.fit()\n",
    "\n",
    "baseline_results.summary()"
   ]
  },
  {
   "cell_type": "code",
   "execution_count": 14,
   "metadata": {},
   "outputs": [
    {
     "data": {
      "text/html": [
       "<table class=\"simpletable\">\n",
       "<caption>OLS Regression Results</caption>\n",
       "<tr>\n",
       "  <th>Dep. Variable:</th>          <td>price</td>      <th>  R-squared:         </th>  <td>   0.493</td>  \n",
       "</tr>\n",
       "<tr>\n",
       "  <th>Model:</th>                   <td>OLS</td>       <th>  Adj. R-squared:    </th>  <td>   0.493</td>  \n",
       "</tr>\n",
       "<tr>\n",
       "  <th>Method:</th>             <td>Least Squares</td>  <th>  F-statistic:       </th>  <td>1.049e+04</td> \n",
       "</tr>\n",
       "<tr>\n",
       "  <th>Date:</th>             <td>Tue, 13 Sep 2022</td> <th>  Prob (F-statistic):</th>   <td>  0.00</td>   \n",
       "</tr>\n",
       "<tr>\n",
       "  <th>Time:</th>                 <td>14:27:48</td>     <th>  Log-Likelihood:    </th> <td>-3.0006e+05</td>\n",
       "</tr>\n",
       "<tr>\n",
       "  <th>No. Observations:</th>      <td> 21597</td>      <th>  AIC:               </th>  <td>6.001e+05</td> \n",
       "</tr>\n",
       "<tr>\n",
       "  <th>Df Residuals:</th>          <td> 21594</td>      <th>  BIC:               </th>  <td>6.002e+05</td> \n",
       "</tr>\n",
       "<tr>\n",
       "  <th>Df Model:</th>              <td>     2</td>      <th>                     </th>      <td> </td>     \n",
       "</tr>\n",
       "<tr>\n",
       "  <th>Covariance Type:</th>      <td>nonrobust</td>    <th>                     </th>      <td> </td>     \n",
       "</tr>\n",
       "</table>\n",
       "<table class=\"simpletable\">\n",
       "<tr>\n",
       "       <td></td>          <th>coef</th>     <th>std err</th>      <th>t</th>      <th>P>|t|</th>  <th>[0.025</th>    <th>0.975]</th>  \n",
       "</tr>\n",
       "<tr>\n",
       "  <th>const</th>       <td>-3.992e+04</td> <td> 5237.187</td> <td>   -7.622</td> <td> 0.000</td> <td>-5.02e+04</td> <td>-2.97e+04</td>\n",
       "</tr>\n",
       "<tr>\n",
       "  <th>sqft_living</th> <td>  284.0883</td> <td>    2.962</td> <td>   95.926</td> <td> 0.000</td> <td>  278.284</td> <td>  289.893</td>\n",
       "</tr>\n",
       "<tr>\n",
       "  <th>bathrooms</th>   <td>-5095.2734</td> <td> 3535.830</td> <td>   -1.441</td> <td> 0.150</td> <td> -1.2e+04</td> <td> 1835.215</td>\n",
       "</tr>\n",
       "</table>\n",
       "<table class=\"simpletable\">\n",
       "<tr>\n",
       "  <th>Omnibus:</th>       <td>14783.268</td> <th>  Durbin-Watson:     </th>  <td>   1.983</td> \n",
       "</tr>\n",
       "<tr>\n",
       "  <th>Prob(Omnibus):</th>  <td> 0.000</td>   <th>  Jarque-Bera (JB):  </th> <td>540478.758</td>\n",
       "</tr>\n",
       "<tr>\n",
       "  <th>Skew:</th>           <td> 2.815</td>   <th>  Prob(JB):          </th>  <td>    0.00</td> \n",
       "</tr>\n",
       "<tr>\n",
       "  <th>Kurtosis:</th>       <td>26.852</td>   <th>  Cond. No.          </th>  <td>7.27e+03</td> \n",
       "</tr>\n",
       "</table><br/><br/>Notes:<br/>[1] Standard Errors assume that the covariance matrix of the errors is correctly specified.<br/>[2] The condition number is large, 7.27e+03. This might indicate that there are<br/>strong multicollinearity or other numerical problems."
      ],
      "text/plain": [
       "<class 'statsmodels.iolib.summary.Summary'>\n",
       "\"\"\"\n",
       "                            OLS Regression Results                            \n",
       "==============================================================================\n",
       "Dep. Variable:                  price   R-squared:                       0.493\n",
       "Model:                            OLS   Adj. R-squared:                  0.493\n",
       "Method:                 Least Squares   F-statistic:                 1.049e+04\n",
       "Date:                Tue, 13 Sep 2022   Prob (F-statistic):               0.00\n",
       "Time:                        14:27:48   Log-Likelihood:            -3.0006e+05\n",
       "No. Observations:               21597   AIC:                         6.001e+05\n",
       "Df Residuals:                   21594   BIC:                         6.002e+05\n",
       "Df Model:                           2                                         \n",
       "Covariance Type:            nonrobust                                         \n",
       "===============================================================================\n",
       "                  coef    std err          t      P>|t|      [0.025      0.975]\n",
       "-------------------------------------------------------------------------------\n",
       "const       -3.992e+04   5237.187     -7.622      0.000   -5.02e+04   -2.97e+04\n",
       "sqft_living   284.0883      2.962     95.926      0.000     278.284     289.893\n",
       "bathrooms   -5095.2734   3535.830     -1.441      0.150    -1.2e+04    1835.215\n",
       "==============================================================================\n",
       "Omnibus:                    14783.268   Durbin-Watson:                   1.983\n",
       "Prob(Omnibus):                  0.000   Jarque-Bera (JB):           540478.758\n",
       "Skew:                           2.815   Prob(JB):                         0.00\n",
       "Kurtosis:                      26.852   Cond. No.                     7.27e+03\n",
       "==============================================================================\n",
       "\n",
       "Notes:\n",
       "[1] Standard Errors assume that the covariance matrix of the errors is correctly specified.\n",
       "[2] The condition number is large, 7.27e+03. This might indicate that there are\n",
       "strong multicollinearity or other numerical problems.\n",
       "\"\"\""
      ]
     },
     "execution_count": 14,
     "metadata": {},
     "output_type": "execute_result"
    }
   ],
   "source": [
    "#here is our second model where I try and add the 2nd highest correlated value to the model to see if I can bring R2 up\n",
    "#It appears to not have worked\n",
    "x_2 = df[['sqft_living', 'bathrooms']]\n",
    "x_2\n",
    "\n",
    "second_model = sm.OLS(y, sm.add_constant(x_2))\n",
    "second_results = second_model.fit()\n",
    "\n",
    "second_results.summary()"
   ]
  },
  {
   "cell_type": "code",
   "execution_count": 15,
   "metadata": {},
   "outputs": [
    {
     "data": {
      "text/html": [
       "<table class=\"simpletable\">\n",
       "<caption>OLS Regression Results</caption>\n",
       "<tr>\n",
       "  <th>Dep. Variable:</th>          <td>price</td>      <th>  R-squared:         </th>  <td>   0.883</td>  \n",
       "</tr>\n",
       "<tr>\n",
       "  <th>Model:</th>                   <td>OLS</td>       <th>  Adj. R-squared:    </th>  <td>   0.883</td>  \n",
       "</tr>\n",
       "<tr>\n",
       "  <th>Method:</th>             <td>Least Squares</td>  <th>  F-statistic:       </th>  <td>1.855e+04</td> \n",
       "</tr>\n",
       "<tr>\n",
       "  <th>Date:</th>             <td>Tue, 13 Sep 2022</td> <th>  Prob (F-statistic):</th>   <td>  0.00</td>   \n",
       "</tr>\n",
       "<tr>\n",
       "  <th>Time:</th>                 <td>14:27:48</td>     <th>  Log-Likelihood:    </th> <td>-2.2747e+05</td>\n",
       "</tr>\n",
       "<tr>\n",
       "  <th>No. Observations:</th>      <td> 17277</td>      <th>  AIC:               </th>  <td>4.550e+05</td> \n",
       "</tr>\n",
       "<tr>\n",
       "  <th>Df Residuals:</th>          <td> 17269</td>      <th>  BIC:               </th>  <td>4.550e+05</td> \n",
       "</tr>\n",
       "<tr>\n",
       "  <th>Df Model:</th>              <td>     7</td>      <th>                     </th>      <td> </td>     \n",
       "</tr>\n",
       "<tr>\n",
       "  <th>Covariance Type:</th>      <td>nonrobust</td>    <th>                     </th>      <td> </td>     \n",
       "</tr>\n",
       "</table>\n",
       "<table class=\"simpletable\">\n",
       "<tr>\n",
       "       <td></td>          <th>coef</th>     <th>std err</th>      <th>t</th>      <th>P>|t|</th>  <th>[0.025</th>    <th>0.975]</th>  \n",
       "</tr>\n",
       "<tr>\n",
       "  <th>const</th>       <td> 5.415e+05</td> <td>  961.945</td> <td>  562.942</td> <td> 0.000</td> <td>  5.4e+05</td> <td> 5.43e+05</td>\n",
       "</tr>\n",
       "<tr>\n",
       "  <th>bedrooms</th>    <td>-3827.4329</td> <td> 1256.818</td> <td>   -3.045</td> <td> 0.002</td> <td>-6290.924</td> <td>-1363.942</td>\n",
       "</tr>\n",
       "<tr>\n",
       "  <th>bathrooms</th>   <td> 1.589e+04</td> <td> 1724.473</td> <td>    9.212</td> <td> 0.000</td> <td> 1.25e+04</td> <td> 1.93e+04</td>\n",
       "</tr>\n",
       "<tr>\n",
       "  <th>sqft_living</th> <td> 2.753e+05</td> <td> 1608.958</td> <td>  171.120</td> <td> 0.000</td> <td> 2.72e+05</td> <td> 2.78e+05</td>\n",
       "</tr>\n",
       "<tr>\n",
       "  <th>sqft_lot</th>    <td>-9194.2222</td> <td>  986.680</td> <td>   -9.318</td> <td> 0.000</td> <td>-1.11e+04</td> <td>-7260.230</td>\n",
       "</tr>\n",
       "<tr>\n",
       "  <th>floors</th>      <td>-9601.6626</td> <td> 1191.191</td> <td>   -8.061</td> <td> 0.000</td> <td>-1.19e+04</td> <td>-7266.807</td>\n",
       "</tr>\n",
       "<tr>\n",
       "  <th>yr_built</th>    <td>-3407.5311</td> <td> 1265.162</td> <td>   -2.693</td> <td> 0.007</td> <td>-5887.376</td> <td> -927.686</td>\n",
       "</tr>\n",
       "<tr>\n",
       "  <th>price_sqft</th>  <td> 2.299e+05</td> <td> 1055.613</td> <td>  217.763</td> <td> 0.000</td> <td> 2.28e+05</td> <td> 2.32e+05</td>\n",
       "</tr>\n",
       "</table>\n",
       "<table class=\"simpletable\">\n",
       "<tr>\n",
       "  <th>Omnibus:</th>       <td>16143.352</td> <th>  Durbin-Watson:     </th>  <td>   1.994</td>  \n",
       "</tr>\n",
       "<tr>\n",
       "  <th>Prob(Omnibus):</th>  <td> 0.000</td>   <th>  Jarque-Bera (JB):  </th> <td>4348861.236</td>\n",
       "</tr>\n",
       "<tr>\n",
       "  <th>Skew:</th>           <td> 3.839</td>   <th>  Prob(JB):          </th>  <td>    0.00</td>  \n",
       "</tr>\n",
       "<tr>\n",
       "  <th>Kurtosis:</th>       <td>80.344</td>   <th>  Cond. No.          </th>  <td>    3.77</td>  \n",
       "</tr>\n",
       "</table><br/><br/>Notes:<br/>[1] Standard Errors assume that the covariance matrix of the errors is correctly specified."
      ],
      "text/plain": [
       "<class 'statsmodels.iolib.summary.Summary'>\n",
       "\"\"\"\n",
       "                            OLS Regression Results                            \n",
       "==============================================================================\n",
       "Dep. Variable:                  price   R-squared:                       0.883\n",
       "Model:                            OLS   Adj. R-squared:                  0.883\n",
       "Method:                 Least Squares   F-statistic:                 1.855e+04\n",
       "Date:                Tue, 13 Sep 2022   Prob (F-statistic):               0.00\n",
       "Time:                        14:27:48   Log-Likelihood:            -2.2747e+05\n",
       "No. Observations:               17277   AIC:                         4.550e+05\n",
       "Df Residuals:                   17269   BIC:                         4.550e+05\n",
       "Df Model:                           7                                         \n",
       "Covariance Type:            nonrobust                                         \n",
       "===============================================================================\n",
       "                  coef    std err          t      P>|t|      [0.025      0.975]\n",
       "-------------------------------------------------------------------------------\n",
       "const        5.415e+05    961.945    562.942      0.000     5.4e+05    5.43e+05\n",
       "bedrooms    -3827.4329   1256.818     -3.045      0.002   -6290.924   -1363.942\n",
       "bathrooms    1.589e+04   1724.473      9.212      0.000    1.25e+04    1.93e+04\n",
       "sqft_living  2.753e+05   1608.958    171.120      0.000    2.72e+05    2.78e+05\n",
       "sqft_lot    -9194.2222    986.680     -9.318      0.000   -1.11e+04   -7260.230\n",
       "floors      -9601.6626   1191.191     -8.061      0.000   -1.19e+04   -7266.807\n",
       "yr_built    -3407.5311   1265.162     -2.693      0.007   -5887.376    -927.686\n",
       "price_sqft   2.299e+05   1055.613    217.763      0.000    2.28e+05    2.32e+05\n",
       "==============================================================================\n",
       "Omnibus:                    16143.352   Durbin-Watson:                   1.994\n",
       "Prob(Omnibus):                  0.000   Jarque-Bera (JB):          4348861.236\n",
       "Skew:                           3.839   Prob(JB):                         0.00\n",
       "Kurtosis:                      80.344   Cond. No.                         3.77\n",
       "==============================================================================\n",
       "\n",
       "Notes:\n",
       "[1] Standard Errors assume that the covariance matrix of the errors is correctly specified.\n",
       "\"\"\""
      ]
     },
     "execution_count": 15,
     "metadata": {},
     "output_type": "execute_result"
    }
   ],
   "source": [
    "#So here is our third model, where we made this after we added our Ordinal and One Hot encoder \n",
    "#as well as standized all the numaric values, this performs way better than our first 2 iterations with a R2 of .88\n",
    "#I think I want to try and improve this with adding our catagorical data ie: grade, condition, and zone\n",
    "\n",
    "baseline_model2 = sm.OLS(y_train_kch, sm.add_constant(X_train_scaled))\n",
    "baseline_results2 = baseline_model2.fit()\n",
    "\n",
    "baseline_results2.summary()"
   ]
  },
  {
   "cell_type": "markdown",
   "metadata": {},
   "source": [
    "# Evaluate Performance"
   ]
  },
  {
   "cell_type": "code",
   "execution_count": 16,
   "metadata": {},
   "outputs": [
    {
     "data": {
      "text/plain": [
       "array([267339.72759972, 366273.58286976, 835719.1324698 , ...,\n",
       "       227460.79599347, 815352.76930294, 598402.95934323])"
      ]
     },
     "execution_count": 16,
     "metadata": {},
     "output_type": "execute_result"
    }
   ],
   "source": [
    "y_hat= lr.predict(X_train_scaled)\n",
    "y_hat"
   ]
  },
  {
   "cell_type": "code",
   "execution_count": 17,
   "metadata": {},
   "outputs": [
    {
     "data": {
      "text/plain": [
       "id\n",
       "9834201100     65160.272400\n",
       "7795810110     23726.417130\n",
       "1853081250    -35719.132470\n",
       "2558630350     -4944.830279\n",
       "3362401000     -7697.421255\n",
       "                  ...      \n",
       "7853230570     -5008.656285\n",
       "4140940150    -54431.841956\n",
       "8658300480     72339.204007\n",
       "1723049033   -570352.769303\n",
       "8567450080    -53402.959343\n",
       "Name: price, Length: 17277, dtype: float64"
      ]
     },
     "execution_count": 17,
     "metadata": {},
     "output_type": "execute_result"
    }
   ],
   "source": [
    "resid=(y_train_kch - y_hat)\n",
    "resid"
   ]
  },
  {
   "cell_type": "code",
   "execution_count": 18,
   "metadata": {},
   "outputs": [
    {
     "data": {
      "image/png": "[encoded data removed]",
      "text/plain": [
       "<Figure size 432x288 with 1 Axes>"
      ]
     },
     "metadata": {
      "needs_background": "light"
     },
     "output_type": "display_data"
    }
   ],
   "source": [
    "fig, ax  =plt.subplots()\n",
    "ax.scatter(x=range(y_hat.shape[0]), y=resid, alpha=.1);"
   ]
  },
  {
   "cell_type": "code",
   "execution_count": 19,
   "metadata": {
    "scrolled": false
   },
   "outputs": [
    {
     "data": {
      "text/plain": [
       "sqft_living    0.701917\n",
       "grade_num      0.667951\n",
       "price_sqft     0.556056\n",
       "bathrooms      0.525906\n",
       "bedrooms       0.308787\n",
       "floors         0.256804\n",
       "sqft_lot       0.089876\n",
       "yr_built       0.053953\n",
       "cond_num       0.036056\n",
       "Name: price, dtype: float64"
      ]
     },
     "execution_count": 19,
     "metadata": {},
     "output_type": "execute_result"
    }
   ],
   "source": [
    "pricecorr = df.corr()['price']\n",
    "pricecorr.abs().sort_values(ascending=False)[1:]"
   ]
  },
  {
   "cell_type": "code",
   "execution_count": 20,
   "metadata": {
    "scrolled": false
   },
   "outputs": [
    {
     "data": {
      "image/png": "[encoded data removed]",
      "text/plain": [
       "<Figure size 432x288 with 1 Axes>"
      ]
     },
     "metadata": {
      "needs_background": "light"
     },
     "output_type": "display_data"
    }
   ],
   "source": [
    "df.plot.scatter(x='sqft_living', y='price');"
   ]
  },
  {
   "cell_type": "code",
   "execution_count": 21,
   "metadata": {},
   "outputs": [
    {
     "data": {
      "image/png": "[encoded data removed]",
      "text/plain": [
       "<Figure size 432x288 with 1 Axes>"
      ]
     },
     "metadata": {
      "needs_background": "light"
     },
     "output_type": "display_data"
    }
   ],
   "source": [
    "sm.graphics.plot_fit(baseline_results, \"sqft_living\")\n",
    "plt.show()"
   ]
  },
  {
   "cell_type": "code",
   "execution_count": 22,
   "metadata": {},
   "outputs": [
    {
     "data": {
      "image/png": "[encoded data removed]",
      "text/plain": [
       "<Figure size 432x288 with 1 Axes>"
      ]
     },
     "metadata": {
      "needs_background": "light"
     },
     "output_type": "display_data"
    }
   ],
   "source": [
    "fig, ax = plt.subplots()\n",
    "df.plot.scatter(x=\"sqft_living\", y=\"price\", label=\"Data points\", ax=ax)\n",
    "sm.graphics.abline_plot(model_results=baseline_results, label=\"Regression line\", ax=ax, color=\"black\")\n",
    "ax.legend();"
   ]
  },
  {
   "cell_type": "code",
   "execution_count": 23,
   "metadata": {},
   "outputs": [
    {
     "data": {
      "image/png": "[encoded data removed]",
      "text/plain": [
       "<Figure size 432x288 with 1 Axes>"
      ]
     },
     "metadata": {
      "needs_background": "light"
     },
     "output_type": "display_data"
    }
   ],
   "source": [
    "fig, ax = plt.subplots()\n",
    "\n",
    "ax.scatter(df[\"sqft_living\"], baseline_results.resid)\n",
    "ax.axhline(y=0, color=\"black\")\n",
    "ax.set_xlabel(\"Sq_footage\")\n",
    "ax.set_ylabel(\"residuals\");"
   ]
  },
  {
   "cell_type": "markdown",
   "metadata": {},
   "source": [
    "# Visualizations \n",
    "\n",
    "- mean price per square foot in each zone for a average house"
   ]
  },
  {
   "cell_type": "code",
   "execution_count": 27,
   "metadata": {
    "scrolled": false
   },
   "outputs": [
    {
     "data": {
      "image/png": "[encoded data removed]",
      "text/plain": [
       "<Figure size 432x288 with 1 Axes>"
      ]
     },
     "metadata": {
      "needs_background": "light"
     },
     "output_type": "display_data"
    }
   ],
   "source": [
    "sns.boxplot(x=test_kch['zones'], y=test_kch['price_sqft']);\n",
    "plt.show()"
   ]
  },
  {
   "cell_type": "code",
   "execution_count": null,
   "metadata": {},
   "outputs": [],
   "source": []
  }
 ],
 "metadata": {
  "kernelspec": {
   "display_name": "Python 3",
   "language": "python",
   "name": "python3"
  },
  "language_info": {
   "codemirror_mode": {
    "name": "ipython",
    "version": 3
   },
   "file_extension": ".py",
   "mimetype": "text/x-python",
   "name": "python",
   "nbconvert_exporter": "python",
   "pygments_lexer": "ipython3",
   "version": "3.8.5"
  }
 },
 "nbformat": 4,
 "nbformat_minor": 2
}
