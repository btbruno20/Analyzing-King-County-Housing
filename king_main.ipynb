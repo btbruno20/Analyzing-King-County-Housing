{
 "cells": [
  {
   "cell_type": "code",
   "execution_count": 1,
   "metadata": {},
   "outputs": [],
   "source": [
    "#Importing relevant packages and King county data\n",
    "import pandas as pd\n",
    "import numpy as np\n",
    "import matplotlib.pyplot as plt\n",
    "import seaborn as sns\n",
    "from sklearn import metrics\n",
    "from sklearn.preprocessing import OneHotEncoder, StandardScaler, OrdinalEncoder\n",
    "from sklearn.linear_model import LinearRegression\n",
    "from sklearn.model_selection import train_test_split\n",
    "from sklearn.metrics import mean_squared_error\n",
    "import itertools\n",
    "from numbers import Number\n",
    "from scipy import stats\n",
    "import statsmodels.api as sm\n",
    "from scipy.stats import pearsonr\n",
    "from statsmodels.formula.api import ols\n",
    "from sklearn.dummy import DummyRegressor\n",
    "%matplotlib inline\n",
    "\n",
    "\n",
    "df = pd.read_csv(\"data/kc_house_data.csv\",parse_dates=['date'], index_col=0)"
   ]
  },
  {
   "cell_type": "code",
   "execution_count": 2,
   "metadata": {
    "scrolled": true
   },
   "outputs": [],
   "source": [
    "#Dropping columns that were suggested not to use, except date and zipcode\n",
    "df.drop([ 'view', 'sqft_above', 'sqft_basement', 'yr_renovated', 'lat', 'long', 'sqft_living15', 'sqft_lot15', 'waterfront'], \n",
    "        axis=1, inplace=True)\n",
    "\n",
    "#Creating price per square foot column\n",
    "df['price_sqft'] = df['price'] / df['sqft_living']\n",
    "\n",
    "#dropping all outliers in price column, this increased our third models Rscore from .88 to .90\n",
    "df = df[(np.abs(stats.zscore(df['price'])) < 3)]"
   ]
  },
  {
   "cell_type": "code",
   "execution_count": 3,
   "metadata": {},
   "outputs": [],
   "source": [
    "#Creating map for zipcodes\n",
    "zip_map = {\n",
    "    98001:'Suburbs', 98002:'Suburbs', 98003:'Suburbs', 98004:'Suburbs', 98005:'Suburbs',\n",
    "    98006:'Suburbs', 98007:'Suburbs',98008:'Suburbs', 98010:'Rural', 98011:'Suburbs', \n",
    "    98014:'Rural', 98019:'Rural', 98022:'Rural', 98023:'Suburbs', 98024:'Rural', \n",
    "    98027:'Rural', 98028:'Suburbs', 98029:'Suburbs', 98030:'Suburbs', 98031:'Suburbs',\n",
    "    98032:'Suburbs', 98033:'Suburbs', 98034:'Suburbs', 98038:'Rural', 98039:'Suburbs',\n",
    "    98040:'Suburbs', 98042:'Rural', 98045:'Rural', 98052:'Suburbs', 98053:'Rural',\n",
    "    98055:'Suburbs', 98056:'Suburbs', 98058:'Suburbs', 98059:'Suburbs', 98065:'Rural',\n",
    "    98070:'Suburbs', 98072:'Suburbs', 98074:'Suburbs', 98075:'Suburbs', 98077:'Rural',\n",
    "    98092:'Suburbs', 98102:'Seattle', 98103:'Seattle', 98105:'Seattle', 98106:'Seattle',\n",
    "    98107:'Seattle', 98108:'Seattle', 98109:'Seattle', 98112:'Seattle', 98115:'Seattle', \n",
    "    98116:'Seattle', 98117:'Seattle', 98118:'Seattle', 98119:'Seattle', 98122:'Seattle',\n",
    "    98125:'Seattle', 98126:'Seattle', 98133:'Seattle', 98136:'Seattle', 98144:'Seattle', \n",
    "    98146:'Seattle', 98148:'Seattle', 98155:'Seattle', 98166:'Seattle', 98168:'Seattle',\n",
    "    98177:'Seattle', 98178:'Seattle', 98188:'Seattle', 98198:'Seattle', 98199:'Seattle'\n",
    "    }\n",
    "\n",
    "#creating a map for condition since there are low values of Poor and Fair compared to the other categorical variables\n",
    "condition_map = {\n",
    "                 'Poor': 0,\n",
    "                 'Fair': 1,\n",
    "                 'Average': 2,\n",
    "                 'Good': 3,\n",
    "                 'Very Good': 4\n",
    "                }\n",
    "\n",
    "#mapping grade map\n",
    "grade_map = {\n",
    "             '3 Poor': 3,\n",
    "             '4 Low': 4,\n",
    "             '5 Fair': 5,\n",
    "             '6 Low Average': 6,\n",
    "             '7 Average': 7,\n",
    "             '8 Good': 8,\n",
    "             '9 Better': 9,\n",
    "             '10 Very Good': 10,\n",
    "             '11 Excellent': 11,\n",
    "             '12 Luxury': 12,\n",
    "             '13 Mansion': 13\n",
    "            }\n",
    "\n",
    "# Adding maps to dataframe & dropping columns that were mapped\n",
    "df['zones'] = df['zipcode'].map(zip_map)\n",
    "df.drop('zipcode', axis=1, inplace=True);\n",
    "df['cond_num'] = df['condition'].map(condition_map)\n",
    "df.drop('condition', axis = 1, inplace=True);\n",
    "df['grade_num'] = df['grade'].map(grade_map)\n",
    "df.drop('grade', axis = 1, inplace=True);"
   ]
  },
  {
   "cell_type": "markdown",
   "metadata": {},
   "source": [
    "Sorted zipcodes with following sources\n",
    "- website =  https://www.unitedstateszipcodes.org/wa/ \n",
    "- map = https://aqua.kingcounty.gov/gis/web/VMC/boundaries/zipcodes/zipcodes.pdf"
   ]
  },
  {
   "cell_type": "markdown",
   "metadata": {},
   "source": [
    "# Things to do\n",
    "\n",
    "- create graphs for models \n",
    "- make your price per sqfoot over zones graph pretty"
   ]
  },
  {
   "cell_type": "code",
   "execution_count": 4,
   "metadata": {},
   "outputs": [
    {
     "data": {
      "text/plain": [
       "0.0"
      ]
     },
     "execution_count": 4,
     "metadata": {},
     "output_type": "execute_result"
    }
   ],
   "source": [
    "#Dummymodel creation and evaluation\n",
    "dummymodel = DummyRegressor(strategy = \"mean\")\n",
    "X = df.drop(columns ='price', axis = 1)\n",
    "y = df['price']\n",
    "dummymodel = dummymodel.fit(X, y)\n",
    "\n",
    "dummymodel.predict(X)\n",
    "dummymodel.predict(y)\n",
    "dummymodel.score(X, y)"
   ]
  },
  {
   "cell_type": "markdown",
   "metadata": {},
   "source": [
    "# Ordinal & One Hot Encoder\n",
    "Can do OrdinalEncoder directly on condition and grade but might be better to bin them since there are a fair amount of unique values for both which could cause multicollinearlity.\n",
    "\n",
    "For condition:\n",
    "\n",
    "- Poor\n",
    "- Fair\n",
    "- Average\n",
    "- Good\n",
    "- Very Good\n",
    "\n",
    "\n",
    "For grade:\n",
    "\n",
    "- 7 Average\n",
    "- 8 Good\n",
    "- 9 Better\n",
    "- 6 Low Average\n",
    "- 10 Very Good\n",
    "- 11 Excellent\n",
    "- 5 Fair\n",
    "- 12 Luxury\n",
    "- 4 Low\n",
    "- 13 Mansion\n",
    "- 3 Poor\n",
    "\n",
    "Zipcode:\n",
    "- Rural\n",
    "- Suburbs\n",
    "- Seattle"
   ]
  },
  {
   "cell_type": "code",
   "execution_count": 5,
   "metadata": {
    "scrolled": true
   },
   "outputs": [],
   "source": [
    "#defining X & y\n",
    "X = df.drop(columns='price', axis=1)\n",
    "y = df['price']\n",
    "\n",
    "#Train test split\n",
    "X_train, X_test, y_train, y_test = train_test_split(X, y, test_size=0.20, random_state=42)\n",
    "\n",
    "#creating a train df and test df\n",
    "train_kch = pd.concat([X_train, y_train], axis=1)\n",
    "test_kch = pd.concat([X_test, y_test], axis=1)"
   ]
  },
  {
   "cell_type": "code",
   "execution_count": 6,
   "metadata": {},
   "outputs": [],
   "source": [
    "#Creating variables storing our Ordinal & One Hot Encoding columns\n",
    "train_kch_cat = train_kch[['cond_num', 'grade_num']]\n",
    "train_kch_zones = train_kch[['zones']]\n",
    "test_kch_cat = test_kch[['cond_num', 'grade_num']]\n",
    "test_kch_zones = test_kch[['zones']]\n",
    "\n",
    "#Initializing Ordinal and One Hot\n",
    "ore = OrdinalEncoder()\n",
    "ore.fit(train_kch_cat)\n",
    "ohe = OneHotEncoder(sparse=False)\n",
    "ohe.fit(train_kch_zones)\n",
    "\n",
    "\n",
    "#Applying Ordinal and One Hot to our Train and Test\n",
    "ohe_transform = ohe.transform(train_kch_zones)\n",
    "zones_encoded = pd.DataFrame(ohe.fit_transform(train_kch_zones),\n",
    "                            index=train_kch_zones.index)\n",
    "\n",
    "\n",
    "ohe_test_transform = ohe.transform(test_kch_zones)\n",
    "zones_encoded_test = pd.DataFrame(ohe.fit_transform(test_kch_zones),\n",
    "                                 index=test_kch_zones.index)\n",
    "\n",
    "ore_transform = ore.transform(train_kch_cat)\n",
    "cat_encoded = pd.DataFrame(ore_transform, columns = ['cond_num_cat','grade_num_cat'], \n",
    "                          index=train_kch_cat.index)\n",
    "\n",
    "ore_test_transform = ore.transform(test_kch_cat)\n",
    "cat_encoded_test = pd.DataFrame(ore_test_transform, columns = ['cond_num_cat','grade_num_cat'], \n",
    "                          index=test_kch_cat.index)\n",
    "\n"
   ]
  },
  {
   "cell_type": "code",
   "execution_count": 7,
   "metadata": {},
   "outputs": [
    {
     "data": {
      "text/html": [
       "<div>\n",
       "<style scoped>\n",
       "    .dataframe tbody tr th:only-of-type {\n",
       "        vertical-align: middle;\n",
       "    }\n",
       "\n",
       "    .dataframe tbody tr th {\n",
       "        vertical-align: top;\n",
       "    }\n",
       "\n",
       "    .dataframe thead th {\n",
       "        text-align: right;\n",
       "    }\n",
       "</style>\n",
       "<table border=\"1\" class=\"dataframe\">\n",
       "  <thead>\n",
       "    <tr style=\"text-align: right;\">\n",
       "      <th></th>\n",
       "      <th>date</th>\n",
       "      <th>bedrooms</th>\n",
       "      <th>bathrooms</th>\n",
       "      <th>sqft_living</th>\n",
       "      <th>sqft_lot</th>\n",
       "      <th>floors</th>\n",
       "      <th>yr_built</th>\n",
       "      <th>price_sqft</th>\n",
       "      <th>zones</th>\n",
       "      <th>cond_num</th>\n",
       "      <th>grade_num</th>\n",
       "      <th>price</th>\n",
       "    </tr>\n",
       "    <tr>\n",
       "      <th>id</th>\n",
       "      <th></th>\n",
       "      <th></th>\n",
       "      <th></th>\n",
       "      <th></th>\n",
       "      <th></th>\n",
       "      <th></th>\n",
       "      <th></th>\n",
       "      <th></th>\n",
       "      <th></th>\n",
       "      <th></th>\n",
       "      <th></th>\n",
       "      <th></th>\n",
       "    </tr>\n",
       "  </thead>\n",
       "  <tbody>\n",
       "    <tr>\n",
       "      <th>1189000910</th>\n",
       "      <td>2014-07-08</td>\n",
       "      <td>2</td>\n",
       "      <td>1.50</td>\n",
       "      <td>1920</td>\n",
       "      <td>3408</td>\n",
       "      <td>1.0</td>\n",
       "      <td>1912</td>\n",
       "      <td>269.270833</td>\n",
       "      <td>Seattle</td>\n",
       "      <td>3</td>\n",
       "      <td>7</td>\n",
       "      <td>517000.0</td>\n",
       "    </tr>\n",
       "    <tr>\n",
       "      <th>1423089055</th>\n",
       "      <td>2014-06-13</td>\n",
       "      <td>4</td>\n",
       "      <td>2.75</td>\n",
       "      <td>4070</td>\n",
       "      <td>115434</td>\n",
       "      <td>2.0</td>\n",
       "      <td>2002</td>\n",
       "      <td>207.616708</td>\n",
       "      <td>Rural</td>\n",
       "      <td>2</td>\n",
       "      <td>9</td>\n",
       "      <td>845000.0</td>\n",
       "    </tr>\n",
       "    <tr>\n",
       "      <th>6083000050</th>\n",
       "      <td>2014-06-13</td>\n",
       "      <td>3</td>\n",
       "      <td>1.75</td>\n",
       "      <td>1900</td>\n",
       "      <td>8540</td>\n",
       "      <td>1.0</td>\n",
       "      <td>1980</td>\n",
       "      <td>123.684211</td>\n",
       "      <td>Seattle</td>\n",
       "      <td>2</td>\n",
       "      <td>6</td>\n",
       "      <td>235000.0</td>\n",
       "    </tr>\n",
       "    <tr>\n",
       "      <th>7390400069</th>\n",
       "      <td>2015-03-27</td>\n",
       "      <td>2</td>\n",
       "      <td>2.75</td>\n",
       "      <td>2810</td>\n",
       "      <td>11205</td>\n",
       "      <td>1.0</td>\n",
       "      <td>1968</td>\n",
       "      <td>160.142349</td>\n",
       "      <td>Seattle</td>\n",
       "      <td>2</td>\n",
       "      <td>7</td>\n",
       "      <td>450000.0</td>\n",
       "    </tr>\n",
       "    <tr>\n",
       "      <th>9468200100</th>\n",
       "      <td>2014-07-10</td>\n",
       "      <td>4</td>\n",
       "      <td>1.00</td>\n",
       "      <td>1140</td>\n",
       "      <td>5940</td>\n",
       "      <td>1.0</td>\n",
       "      <td>1916</td>\n",
       "      <td>499.956140</td>\n",
       "      <td>Seattle</td>\n",
       "      <td>2</td>\n",
       "      <td>7</td>\n",
       "      <td>569950.0</td>\n",
       "    </tr>\n",
       "  </tbody>\n",
       "</table>\n",
       "</div>"
      ],
      "text/plain": [
       "                 date  bedrooms  bathrooms  sqft_living  sqft_lot  floors  \\\n",
       "id                                                                          \n",
       "1189000910 2014-07-08         2       1.50         1920      3408     1.0   \n",
       "1423089055 2014-06-13         4       2.75         4070    115434     2.0   \n",
       "6083000050 2014-06-13         3       1.75         1900      8540     1.0   \n",
       "7390400069 2015-03-27         2       2.75         2810     11205     1.0   \n",
       "9468200100 2014-07-10         4       1.00         1140      5940     1.0   \n",
       "\n",
       "            yr_built  price_sqft    zones  cond_num  grade_num     price  \n",
       "id                                                                        \n",
       "1189000910      1912  269.270833  Seattle         3          7  517000.0  \n",
       "1423089055      2002  207.616708    Rural         2          9  845000.0  \n",
       "6083000050      1980  123.684211  Seattle         2          6  235000.0  \n",
       "7390400069      1968  160.142349  Seattle         2          7  450000.0  \n",
       "9468200100      1916  499.956140  Seattle         2          7  569950.0  "
      ]
     },
     "execution_count": 7,
     "metadata": {},
     "output_type": "execute_result"
    }
   ],
   "source": [
    "train_kch.head()"
   ]
  },
  {
   "cell_type": "markdown",
   "metadata": {},
   "source": [
    "# Standard Scaling"
   ]
  },
  {
   "cell_type": "code",
   "execution_count": 8,
   "metadata": {},
   "outputs": [],
   "source": [
    "#standard scaling the numerical values dropping categorical and target \n",
    "#training data\n",
    "X_train_kch_nums = train_kch.drop(['cond_num', 'grade_num', \n",
    "                                   'zones','date', 'price'], axis=1)\n",
    "y_train_kch = train_kch['price']\n",
    "\n",
    "#testing data\n",
    "X_test_kch_nums = test_kch.drop(['cond_num','grade_num', \n",
    "                                'zones','date', 'price'], axis=1)\n",
    "y_test_kch = test_kch['price']\n",
    "\n",
    "#Standardized Scaler - fit to training x\n",
    "ss = StandardScaler().fit(X_train_kch_nums)\n",
    "\n",
    "#training data - transform\n",
    "X_train_scaled = pd.DataFrame(ss.transform(X_train_kch_nums), columns=X_train_kch_nums.columns, index=X_train_kch_nums.index)\n",
    "\n",
    "\n",
    "#testing data - transform\n",
    "X_test_scaled = pd.DataFrame(ss.transform(X_test_kch_nums), columns=X_test_kch_nums.columns, index=X_test_kch_nums.index)"
   ]
  },
  {
   "cell_type": "code",
   "execution_count": 9,
   "metadata": {},
   "outputs": [],
   "source": [
    "#now can join the two separate variables - standardized and numerical\n",
    "train_kch = pd.concat([X_train_scaled, cat_encoded, zones_encoded, y_train_kch],axis=1)"
   ]
  },
  {
   "cell_type": "code",
   "execution_count": 10,
   "metadata": {},
   "outputs": [
    {
     "data": {
      "text/html": [
       "<div>\n",
       "<style scoped>\n",
       "    .dataframe tbody tr th:only-of-type {\n",
       "        vertical-align: middle;\n",
       "    }\n",
       "\n",
       "    .dataframe tbody tr th {\n",
       "        vertical-align: top;\n",
       "    }\n",
       "\n",
       "    .dataframe thead th {\n",
       "        text-align: right;\n",
       "    }\n",
       "</style>\n",
       "<table border=\"1\" class=\"dataframe\">\n",
       "  <thead>\n",
       "    <tr style=\"text-align: right;\">\n",
       "      <th></th>\n",
       "      <th>bedrooms</th>\n",
       "      <th>bathrooms</th>\n",
       "      <th>sqft_living</th>\n",
       "      <th>sqft_lot</th>\n",
       "      <th>floors</th>\n",
       "      <th>yr_built</th>\n",
       "      <th>price_sqft</th>\n",
       "      <th>cond_num_cat</th>\n",
       "      <th>grade_num_cat</th>\n",
       "      <th>0</th>\n",
       "      <th>1</th>\n",
       "      <th>2</th>\n",
       "      <th>price</th>\n",
       "    </tr>\n",
       "    <tr>\n",
       "      <th>id</th>\n",
       "      <th></th>\n",
       "      <th></th>\n",
       "      <th></th>\n",
       "      <th></th>\n",
       "      <th></th>\n",
       "      <th></th>\n",
       "      <th></th>\n",
       "      <th></th>\n",
       "      <th></th>\n",
       "      <th></th>\n",
       "      <th></th>\n",
       "      <th></th>\n",
       "      <th></th>\n",
       "    </tr>\n",
       "  </thead>\n",
       "  <tbody>\n",
       "    <tr>\n",
       "      <th>1189000910</th>\n",
       "      <td>-1.509850</td>\n",
       "      <td>-0.795478</td>\n",
       "      <td>-0.129450</td>\n",
       "      <td>-0.275931</td>\n",
       "      <td>-0.903715</td>\n",
       "      <td>-2.021145</td>\n",
       "      <td>0.096196</td>\n",
       "      <td>3.0</td>\n",
       "      <td>4.0</td>\n",
       "      <td>0.0</td>\n",
       "      <td>1.0</td>\n",
       "      <td>0.0</td>\n",
       "      <td>517000.0</td>\n",
       "    </tr>\n",
       "    <tr>\n",
       "      <th>1423089055</th>\n",
       "      <td>0.721913</td>\n",
       "      <td>0.904762</td>\n",
       "      <td>2.456101</td>\n",
       "      <td>2.440675</td>\n",
       "      <td>0.949409</td>\n",
       "      <td>1.057771</td>\n",
       "      <td>-0.495134</td>\n",
       "      <td>2.0</td>\n",
       "      <td>6.0</td>\n",
       "      <td>1.0</td>\n",
       "      <td>0.0</td>\n",
       "      <td>0.0</td>\n",
       "      <td>845000.0</td>\n",
       "    </tr>\n",
       "    <tr>\n",
       "      <th>6083000050</th>\n",
       "      <td>-0.393968</td>\n",
       "      <td>-0.455430</td>\n",
       "      <td>-0.153501</td>\n",
       "      <td>-0.151481</td>\n",
       "      <td>-0.903715</td>\n",
       "      <td>0.305147</td>\n",
       "      <td>-1.300138</td>\n",
       "      <td>2.0</td>\n",
       "      <td>3.0</td>\n",
       "      <td>0.0</td>\n",
       "      <td>1.0</td>\n",
       "      <td>0.0</td>\n",
       "      <td>235000.0</td>\n",
       "    </tr>\n",
       "    <tr>\n",
       "      <th>7390400069</th>\n",
       "      <td>-1.509850</td>\n",
       "      <td>0.904762</td>\n",
       "      <td>0.940848</td>\n",
       "      <td>-0.086855</td>\n",
       "      <td>-0.903715</td>\n",
       "      <td>-0.105375</td>\n",
       "      <td>-0.950465</td>\n",
       "      <td>2.0</td>\n",
       "      <td>4.0</td>\n",
       "      <td>0.0</td>\n",
       "      <td>1.0</td>\n",
       "      <td>0.0</td>\n",
       "      <td>450000.0</td>\n",
       "    </tr>\n",
       "    <tr>\n",
       "      <th>9468200100</th>\n",
       "      <td>0.721913</td>\n",
       "      <td>-1.475574</td>\n",
       "      <td>-1.067463</td>\n",
       "      <td>-0.214530</td>\n",
       "      <td>-0.903715</td>\n",
       "      <td>-1.884304</td>\n",
       "      <td>2.308718</td>\n",
       "      <td>2.0</td>\n",
       "      <td>4.0</td>\n",
       "      <td>0.0</td>\n",
       "      <td>1.0</td>\n",
       "      <td>0.0</td>\n",
       "      <td>569950.0</td>\n",
       "    </tr>\n",
       "  </tbody>\n",
       "</table>\n",
       "</div>"
      ],
      "text/plain": [
       "            bedrooms  bathrooms  sqft_living  sqft_lot    floors  yr_built  \\\n",
       "id                                                                           \n",
       "1189000910 -1.509850  -0.795478    -0.129450 -0.275931 -0.903715 -2.021145   \n",
       "1423089055  0.721913   0.904762     2.456101  2.440675  0.949409  1.057771   \n",
       "6083000050 -0.393968  -0.455430    -0.153501 -0.151481 -0.903715  0.305147   \n",
       "7390400069 -1.509850   0.904762     0.940848 -0.086855 -0.903715 -0.105375   \n",
       "9468200100  0.721913  -1.475574    -1.067463 -0.214530 -0.903715 -1.884304   \n",
       "\n",
       "            price_sqft  cond_num_cat  grade_num_cat    0    1    2     price  \n",
       "id                                                                            \n",
       "1189000910    0.096196           3.0            4.0  0.0  1.0  0.0  517000.0  \n",
       "1423089055   -0.495134           2.0            6.0  1.0  0.0  0.0  845000.0  \n",
       "6083000050   -1.300138           2.0            3.0  0.0  1.0  0.0  235000.0  \n",
       "7390400069   -0.950465           2.0            4.0  0.0  1.0  0.0  450000.0  \n",
       "9468200100    2.308718           2.0            4.0  0.0  1.0  0.0  569950.0  "
      ]
     },
     "execution_count": 10,
     "metadata": {},
     "output_type": "execute_result"
    }
   ],
   "source": [
    "train_kch.head()"
   ]
  },
  {
   "cell_type": "markdown",
   "metadata": {},
   "source": [
    "# Linear & Multilinear Regression"
   ]
  },
  {
   "cell_type": "code",
   "execution_count": 11,
   "metadata": {},
   "outputs": [
    {
     "data": {
      "text/plain": [
       "grade_num_cat    0.672041\n",
       "sqft_living      0.664505\n",
       "price_sqft       0.507379\n",
       "bathrooms        0.492210\n",
       "bedrooms         0.315109\n",
       "floors           0.278772\n",
       "sqft_lot         0.090634\n",
       "0                0.073551\n",
       "yr_built         0.056489\n",
       "2                0.049528\n",
       "cond_num_cat     0.035689\n",
       "1                0.004917\n",
       "Name: price, dtype: float64"
      ]
     },
     "execution_count": 11,
     "metadata": {},
     "output_type": "execute_result"
    }
   ],
   "source": [
    "#checking correlations on price for modeling\n",
    "price_corr = train_kch.corr()['price']\n",
    "price_corr.abs().sort_values(ascending=False)[1:]"
   ]
  },
  {
   "cell_type": "code",
   "execution_count": 12,
   "metadata": {},
   "outputs": [
    {
     "data": {
      "text/plain": [
       "LinearRegression()"
      ]
     },
     "execution_count": 12,
     "metadata": {},
     "output_type": "execute_result"
    }
   ],
   "source": [
    "#Initializing LinearRegression\n",
    "lr = LinearRegression()\n",
    "lr.fit(X_train_scaled, y_train_kch)"
   ]
  },
  {
   "cell_type": "code",
   "execution_count": 13,
   "metadata": {},
   "outputs": [
    {
     "data": {
      "text/plain": [
       "array([ 3.34283047e+03,  1.25473190e+04,  2.04707077e+05, -3.13626521e+03,\n",
       "       -1.99933187e+01, -5.29312929e+03,  1.79972607e+05])"
      ]
     },
     "execution_count": 13,
     "metadata": {},
     "output_type": "execute_result"
    }
   ],
   "source": [
    "lr.coef_"
   ]
  },
  {
   "cell_type": "code",
   "execution_count": 14,
   "metadata": {},
   "outputs": [
    {
     "data": {
      "text/plain": [
       "505705.67968381307"
      ]
     },
     "execution_count": 14,
     "metadata": {},
     "output_type": "execute_result"
    }
   ],
   "source": [
    "lr.intercept_"
   ]
  },
  {
   "cell_type": "code",
   "execution_count": 15,
   "metadata": {},
   "outputs": [
    {
     "data": {
      "text/plain": [
       "0.903156750340451"
      ]
     },
     "execution_count": 15,
     "metadata": {},
     "output_type": "execute_result"
    }
   ],
   "source": [
    "lr.score(X_train_scaled, y_train_kch)"
   ]
  },
  {
   "cell_type": "code",
   "execution_count": 16,
   "metadata": {},
   "outputs": [],
   "source": [
    "sns.set(style='darkgrid')"
   ]
  },
  {
   "cell_type": "code",
   "execution_count": 17,
   "metadata": {
    "scrolled": true
   },
   "outputs": [
    {
     "data": {
      "text/html": [
       "<table class=\"simpletable\">\n",
       "<caption>OLS Regression Results</caption>\n",
       "<tr>\n",
       "  <th>Dep. Variable:</th>          <td>price</td>      <th>  R-squared:         </th>  <td>   0.442</td>  \n",
       "</tr>\n",
       "<tr>\n",
       "  <th>Model:</th>                   <td>OLS</td>       <th>  Adj. R-squared:    </th>  <td>   0.442</td>  \n",
       "</tr>\n",
       "<tr>\n",
       "  <th>Method:</th>             <td>Least Squares</td>  <th>  F-statistic:       </th>  <td>1.340e+04</td> \n",
       "</tr>\n",
       "<tr>\n",
       "  <th>Date:</th>             <td>Thu, 15 Sep 2022</td> <th>  Prob (F-statistic):</th>   <td>  0.00</td>   \n",
       "</tr>\n",
       "<tr>\n",
       "  <th>Time:</th>                 <td>13:43:09</td>     <th>  Log-Likelihood:    </th> <td>-2.3042e+05</td>\n",
       "</tr>\n",
       "<tr>\n",
       "  <th>No. Observations:</th>      <td> 16952</td>      <th>  AIC:               </th>  <td>4.608e+05</td> \n",
       "</tr>\n",
       "<tr>\n",
       "  <th>Df Residuals:</th>          <td> 16950</td>      <th>  BIC:               </th>  <td>4.609e+05</td> \n",
       "</tr>\n",
       "<tr>\n",
       "  <th>Df Model:</th>              <td>     1</td>      <th>                     </th>      <td> </td>     \n",
       "</tr>\n",
       "<tr>\n",
       "  <th>Covariance Type:</th>      <td>nonrobust</td>    <th>                     </th>      <td> </td>     \n",
       "</tr>\n",
       "</table>\n",
       "<table class=\"simpletable\">\n",
       "<tr>\n",
       "       <td></td>          <th>coef</th>     <th>std err</th>      <th>t</th>      <th>P>|t|</th>  <th>[0.025</th>    <th>0.975]</th>  \n",
       "</tr>\n",
       "<tr>\n",
       "  <th>const</th>       <td> 5.057e+05</td> <td> 1487.042</td> <td>  340.075</td> <td> 0.000</td> <td> 5.03e+05</td> <td> 5.09e+05</td>\n",
       "</tr>\n",
       "<tr>\n",
       "  <th>sqft_living</th> <td> 1.722e+05</td> <td> 1487.042</td> <td>  115.770</td> <td> 0.000</td> <td> 1.69e+05</td> <td> 1.75e+05</td>\n",
       "</tr>\n",
       "</table>\n",
       "<table class=\"simpletable\">\n",
       "<tr>\n",
       "  <th>Omnibus:</th>       <td>2849.918</td> <th>  Durbin-Watson:     </th> <td>   2.012</td>\n",
       "</tr>\n",
       "<tr>\n",
       "  <th>Prob(Omnibus):</th>  <td> 0.000</td>  <th>  Jarque-Bera (JB):  </th> <td>6150.114</td>\n",
       "</tr>\n",
       "<tr>\n",
       "  <th>Skew:</th>           <td> 0.992</td>  <th>  Prob(JB):          </th> <td>    0.00</td>\n",
       "</tr>\n",
       "<tr>\n",
       "  <th>Kurtosis:</th>       <td> 5.184</td>  <th>  Cond. No.          </th> <td>    1.00</td>\n",
       "</tr>\n",
       "</table><br/><br/>Notes:<br/>[1] Standard Errors assume that the covariance matrix of the errors is correctly specified."
      ],
      "text/plain": [
       "<class 'statsmodels.iolib.summary.Summary'>\n",
       "\"\"\"\n",
       "                            OLS Regression Results                            \n",
       "==============================================================================\n",
       "Dep. Variable:                  price   R-squared:                       0.442\n",
       "Model:                            OLS   Adj. R-squared:                  0.442\n",
       "Method:                 Least Squares   F-statistic:                 1.340e+04\n",
       "Date:                Thu, 15 Sep 2022   Prob (F-statistic):               0.00\n",
       "Time:                        13:43:09   Log-Likelihood:            -2.3042e+05\n",
       "No. Observations:               16952   AIC:                         4.608e+05\n",
       "Df Residuals:                   16950   BIC:                         4.609e+05\n",
       "Df Model:                           1                                         \n",
       "Covariance Type:            nonrobust                                         \n",
       "===============================================================================\n",
       "                  coef    std err          t      P>|t|      [0.025      0.975]\n",
       "-------------------------------------------------------------------------------\n",
       "const        5.057e+05   1487.042    340.075      0.000    5.03e+05    5.09e+05\n",
       "sqft_living  1.722e+05   1487.042    115.770      0.000    1.69e+05    1.75e+05\n",
       "==============================================================================\n",
       "Omnibus:                     2849.918   Durbin-Watson:                   2.012\n",
       "Prob(Omnibus):                  0.000   Jarque-Bera (JB):             6150.114\n",
       "Skew:                           0.992   Prob(JB):                         0.00\n",
       "Kurtosis:                       5.184   Cond. No.                         1.00\n",
       "==============================================================================\n",
       "\n",
       "Notes:\n",
       "[1] Standard Errors assume that the covariance matrix of the errors is correctly specified.\n",
       "\"\"\""
      ]
     },
     "execution_count": 17,
     "metadata": {},
     "output_type": "execute_result"
    }
   ],
   "source": [
    "#Here is our first model, just a simple linear regression between price and square feet\n",
    "# I want to try and bring the R2 value up more\n",
    "X_baseline = train_kch['sqft_living']\n",
    "\n",
    "baseline_model = sm.OLS(y_train_kch, sm.add_constant(X_baseline))\n",
    "baseline_results = baseline_model.fit()\n",
    "\n",
    "baseline_results.summary()"
   ]
  },
  {
   "cell_type": "code",
   "execution_count": 18,
   "metadata": {},
   "outputs": [
    {
     "data": {
      "image/png": "[encoded data removed]",
      "text/plain": [
       "<Figure size 864x576 with 4 Axes>"
      ]
     },
     "metadata": {},
     "output_type": "display_data"
    }
   ],
   "source": [
    "sm.graphics.plot_regress_exog(baseline_results, 'sqft_living', fig=plt.figure(figsize=(12, 8)));"
   ]
  },
  {
   "cell_type": "code",
   "execution_count": 19,
   "metadata": {},
   "outputs": [],
   "source": [
    "#here is our second model where I try and add the 2nd highest correlated value to the model to see if I can bring R2 up\n",
    "#It appears to not have worked\n",
    "x_2 = train_kch[['sqft_living', 'bathrooms']]\n",
    "\n",
    "\n",
    "second_model = sm.OLS(y_train_kch, sm.add_constant(x_2))\n",
    "second_results = second_model.fit()\n",
    "\n"
   ]
  },
  {
   "cell_type": "code",
   "execution_count": 20,
   "metadata": {},
   "outputs": [],
   "source": [
    "#So here is our third model, where we made this after we added our Ordinal and One Hot encoder \n",
    "#as well as standized all the numaric values, this performs way better than our first 2 iterations with a R2 of .88\n",
    "#I think I want to try and improve this with adding our catagorical data ie: grade, condition, and zone\n",
    "\n",
    "baseline_model2 = sm.OLS(y_train_kch, sm.add_constant(X_train_scaled))\n",
    "baseline_results2 = baseline_model2.fit()"
   ]
  },
  {
   "cell_type": "code",
   "execution_count": 21,
   "metadata": {
    "scrolled": true
   },
   "outputs": [],
   "source": [
    "#just checking price per sqft to sqft of living space\n",
    "y3 = df['price_sqft']\n",
    "X_baseline2 = df['sqft_living']\n",
    "\n",
    "baseline_model3 = sm.OLS(y3, sm.add_constant(X_baseline2))\n",
    "baseline_results3 = baseline_model3.fit()"
   ]
  },
  {
   "cell_type": "code",
   "execution_count": 22,
   "metadata": {},
   "outputs": [],
   "source": [
    "#comparing price to our zones encoded variable\n",
    "baseline_model4 = sm.OLS(y_train_kch, sm.add_constant(zones_encoded))\n",
    "baseline_results4 = baseline_model4.fit()"
   ]
  },
  {
   "cell_type": "code",
   "execution_count": 23,
   "metadata": {},
   "outputs": [],
   "source": [
    "baseline_constant5 = train_kch[['sqft_living', 'grade_num_cat']]"
   ]
  },
  {
   "cell_type": "code",
   "execution_count": 24,
   "metadata": {},
   "outputs": [],
   "source": [
    "baseline_model5 = sm.OLS(y_train_kch, sm.add_constant(baseline_constant5))\n",
    "baseline_results5 = baseline_model5.fit()"
   ]
  },
  {
   "cell_type": "code",
   "execution_count": 25,
   "metadata": {},
   "outputs": [],
   "source": [
    "baseline_constant6 = train_kch[['sqft_living', 'grade_num_cat', 'price_sqft', 'bathrooms']]"
   ]
  },
  {
   "cell_type": "code",
   "execution_count": 26,
   "metadata": {},
   "outputs": [],
   "source": [
    "baseline_model6 = sm.OLS(y_train_kch, sm.add_constant(baseline_constant6))\n",
    "baseline_results6 = baseline_model6.fit()"
   ]
  },
  {
   "cell_type": "code",
   "execution_count": 27,
   "metadata": {},
   "outputs": [],
   "source": [
    "baseline_constant7 = train_kch[['sqft_living', 'grade_num_cat', 'price_sqft']]"
   ]
  },
  {
   "cell_type": "code",
   "execution_count": 28,
   "metadata": {},
   "outputs": [],
   "source": [
    "baseline_model7 = sm.OLS(y_train_kch, sm.add_constant(baseline_constant7))\n",
    "baseline_results7 = baseline_model7.fit()"
   ]
  },
  {
   "cell_type": "code",
   "execution_count": 29,
   "metadata": {},
   "outputs": [],
   "source": [
    "baseline_constant8 = pd.concat([train_kch[['sqft_living', 'grade_num_cat', 'price_sqft']], zones_encoded], axis=1)"
   ]
  },
  {
   "cell_type": "code",
   "execution_count": 30,
   "metadata": {},
   "outputs": [
    {
     "data": {
      "text/html": [
       "<table class=\"simpletable\">\n",
       "<caption>OLS Regression Results</caption>\n",
       "<tr>\n",
       "  <th>Dep. Variable:</th>          <td>price</td>      <th>  R-squared:         </th>  <td>   0.906</td>  \n",
       "</tr>\n",
       "<tr>\n",
       "  <th>Model:</th>                   <td>OLS</td>       <th>  Adj. R-squared:    </th>  <td>   0.906</td>  \n",
       "</tr>\n",
       "<tr>\n",
       "  <th>Method:</th>             <td>Least Squares</td>  <th>  F-statistic:       </th>  <td>3.274e+04</td> \n",
       "</tr>\n",
       "<tr>\n",
       "  <th>Date:</th>             <td>Thu, 15 Sep 2022</td> <th>  Prob (F-statistic):</th>   <td>  0.00</td>   \n",
       "</tr>\n",
       "<tr>\n",
       "  <th>Time:</th>                 <td>13:43:10</td>     <th>  Log-Likelihood:    </th> <td>-2.1530e+05</td>\n",
       "</tr>\n",
       "<tr>\n",
       "  <th>No. Observations:</th>      <td> 16952</td>      <th>  AIC:               </th>  <td>4.306e+05</td> \n",
       "</tr>\n",
       "<tr>\n",
       "  <th>Df Residuals:</th>          <td> 16946</td>      <th>  BIC:               </th>  <td>4.307e+05</td> \n",
       "</tr>\n",
       "<tr>\n",
       "  <th>Df Model:</th>              <td>     5</td>      <th>                     </th>      <td> </td>     \n",
       "</tr>\n",
       "<tr>\n",
       "  <th>Covariance Type:</th>      <td>nonrobust</td>    <th>                     </th>      <td> </td>     \n",
       "</tr>\n",
       "</table>\n",
       "<table class=\"simpletable\">\n",
       "<tr>\n",
       "        <td></td>           <th>coef</th>     <th>std err</th>      <th>t</th>      <th>P>|t|</th>  <th>[0.025</th>    <th>0.975]</th>  \n",
       "</tr>\n",
       "<tr>\n",
       "  <th>const</th>         <td> 2.992e+05</td> <td> 3051.300</td> <td>   98.058</td> <td> 0.000</td> <td> 2.93e+05</td> <td> 3.05e+05</td>\n",
       "</tr>\n",
       "<tr>\n",
       "  <th>sqft_living</th>   <td> 1.943e+05</td> <td>  978.449</td> <td>  198.578</td> <td> 0.000</td> <td> 1.92e+05</td> <td> 1.96e+05</td>\n",
       "</tr>\n",
       "<tr>\n",
       "  <th>grade_num_cat</th> <td> 2.254e+04</td> <td>  869.593</td> <td>   25.920</td> <td> 0.000</td> <td> 2.08e+04</td> <td> 2.42e+04</td>\n",
       "</tr>\n",
       "<tr>\n",
       "  <th>price_sqft</th>    <td> 1.742e+05</td> <td>  699.347</td> <td>  249.090</td> <td> 0.000</td> <td> 1.73e+05</td> <td> 1.76e+05</td>\n",
       "</tr>\n",
       "<tr>\n",
       "  <th>0</th>             <td> 8.834e+04</td> <td> 1605.226</td> <td>   55.030</td> <td> 0.000</td> <td> 8.52e+04</td> <td> 9.15e+04</td>\n",
       "</tr>\n",
       "<tr>\n",
       "  <th>1</th>             <td> 1.048e+05</td> <td> 1263.656</td> <td>   82.926</td> <td> 0.000</td> <td> 1.02e+05</td> <td> 1.07e+05</td>\n",
       "</tr>\n",
       "<tr>\n",
       "  <th>2</th>             <td> 1.061e+05</td> <td> 1387.169</td> <td>   76.471</td> <td> 0.000</td> <td> 1.03e+05</td> <td> 1.09e+05</td>\n",
       "</tr>\n",
       "</table>\n",
       "<table class=\"simpletable\">\n",
       "<tr>\n",
       "  <th>Omnibus:</th>       <td>3071.289</td> <th>  Durbin-Watson:     </th> <td>   2.003</td> \n",
       "</tr>\n",
       "<tr>\n",
       "  <th>Prob(Omnibus):</th>  <td> 0.000</td>  <th>  Jarque-Bera (JB):  </th> <td>31319.499</td>\n",
       "</tr>\n",
       "<tr>\n",
       "  <th>Skew:</th>           <td>-0.571</td>  <th>  Prob(JB):          </th> <td>    0.00</td> \n",
       "</tr>\n",
       "<tr>\n",
       "  <th>Kurtosis:</th>       <td> 9.560</td>  <th>  Cond. No.          </th> <td>1.07e+15</td> \n",
       "</tr>\n",
       "</table><br/><br/>Notes:<br/>[1] Standard Errors assume that the covariance matrix of the errors is correctly specified.<br/>[2] The smallest eigenvalue is 3.54e-25. This might indicate that there are<br/>strong multicollinearity problems or that the design matrix is singular."
      ],
      "text/plain": [
       "<class 'statsmodels.iolib.summary.Summary'>\n",
       "\"\"\"\n",
       "                            OLS Regression Results                            \n",
       "==============================================================================\n",
       "Dep. Variable:                  price   R-squared:                       0.906\n",
       "Model:                            OLS   Adj. R-squared:                  0.906\n",
       "Method:                 Least Squares   F-statistic:                 3.274e+04\n",
       "Date:                Thu, 15 Sep 2022   Prob (F-statistic):               0.00\n",
       "Time:                        13:43:10   Log-Likelihood:            -2.1530e+05\n",
       "No. Observations:               16952   AIC:                         4.306e+05\n",
       "Df Residuals:                   16946   BIC:                         4.307e+05\n",
       "Df Model:                           5                                         \n",
       "Covariance Type:            nonrobust                                         \n",
       "=================================================================================\n",
       "                    coef    std err          t      P>|t|      [0.025      0.975]\n",
       "---------------------------------------------------------------------------------\n",
       "const          2.992e+05   3051.300     98.058      0.000    2.93e+05    3.05e+05\n",
       "sqft_living    1.943e+05    978.449    198.578      0.000    1.92e+05    1.96e+05\n",
       "grade_num_cat  2.254e+04    869.593     25.920      0.000    2.08e+04    2.42e+04\n",
       "price_sqft     1.742e+05    699.347    249.090      0.000    1.73e+05    1.76e+05\n",
       "0              8.834e+04   1605.226     55.030      0.000    8.52e+04    9.15e+04\n",
       "1              1.048e+05   1263.656     82.926      0.000    1.02e+05    1.07e+05\n",
       "2              1.061e+05   1387.169     76.471      0.000    1.03e+05    1.09e+05\n",
       "==============================================================================\n",
       "Omnibus:                     3071.289   Durbin-Watson:                   2.003\n",
       "Prob(Omnibus):                  0.000   Jarque-Bera (JB):            31319.499\n",
       "Skew:                          -0.571   Prob(JB):                         0.00\n",
       "Kurtosis:                       9.560   Cond. No.                     1.07e+15\n",
       "==============================================================================\n",
       "\n",
       "Notes:\n",
       "[1] Standard Errors assume that the covariance matrix of the errors is correctly specified.\n",
       "[2] The smallest eigenvalue is 3.54e-25. This might indicate that there are\n",
       "strong multicollinearity problems or that the design matrix is singular.\n",
       "\"\"\""
      ]
     },
     "execution_count": 30,
     "metadata": {},
     "output_type": "execute_result"
    }
   ],
   "source": [
    "baseline_model8 = sm.OLS(y_train_kch, sm.add_constant(baseline_constant8))\n",
    "baseline_results8 = baseline_model8.fit()\n",
    "\n",
    "baseline_results8.summary()"
   ]
  },
  {
   "cell_type": "code",
   "execution_count": 31,
   "metadata": {},
   "outputs": [],
   "source": [
    "y_train_kch_1k = y_train_kch /1000\n"
   ]
  },
  {
   "cell_type": "code",
   "execution_count": 32,
   "metadata": {},
   "outputs": [
    {
     "data": {
      "text/plain": [
       "id\n",
       "1189000910    517.00\n",
       "1423089055    845.00\n",
       "6083000050    235.00\n",
       "7390400069    450.00\n",
       "9468200100    569.95\n",
       "Name: price, dtype: float64"
      ]
     },
     "execution_count": 32,
     "metadata": {},
     "output_type": "execute_result"
    }
   ],
   "source": [
    "y_train_kch_1k.head()"
   ]
  },
  {
   "cell_type": "code",
   "execution_count": 33,
   "metadata": {},
   "outputs": [
    {
     "data": {
      "text/html": [
       "<table class=\"simpletable\">\n",
       "<caption>OLS Regression Results</caption>\n",
       "<tr>\n",
       "  <th>Dep. Variable:</th>          <td>price</td>      <th>  R-squared:         </th> <td>   0.906</td> \n",
       "</tr>\n",
       "<tr>\n",
       "  <th>Model:</th>                   <td>OLS</td>       <th>  Adj. R-squared:    </th> <td>   0.906</td> \n",
       "</tr>\n",
       "<tr>\n",
       "  <th>Method:</th>             <td>Least Squares</td>  <th>  F-statistic:       </th> <td>3.274e+04</td>\n",
       "</tr>\n",
       "<tr>\n",
       "  <th>Date:</th>             <td>Thu, 15 Sep 2022</td> <th>  Prob (F-statistic):</th>  <td>  0.00</td>  \n",
       "</tr>\n",
       "<tr>\n",
       "  <th>Time:</th>                 <td>13:43:10</td>     <th>  Log-Likelihood:    </th> <td> -98199.</td> \n",
       "</tr>\n",
       "<tr>\n",
       "  <th>No. Observations:</th>      <td> 16952</td>      <th>  AIC:               </th> <td>1.964e+05</td>\n",
       "</tr>\n",
       "<tr>\n",
       "  <th>Df Residuals:</th>          <td> 16946</td>      <th>  BIC:               </th> <td>1.965e+05</td>\n",
       "</tr>\n",
       "<tr>\n",
       "  <th>Df Model:</th>              <td>     5</td>      <th>                     </th>     <td> </td>    \n",
       "</tr>\n",
       "<tr>\n",
       "  <th>Covariance Type:</th>      <td>nonrobust</td>    <th>                     </th>     <td> </td>    \n",
       "</tr>\n",
       "</table>\n",
       "<table class=\"simpletable\">\n",
       "<tr>\n",
       "        <td></td>           <th>coef</th>     <th>std err</th>      <th>t</th>      <th>P>|t|</th>  <th>[0.025</th>    <th>0.975]</th>  \n",
       "</tr>\n",
       "<tr>\n",
       "  <th>const</th>         <td>  299.2034</td> <td>    3.051</td> <td>   98.058</td> <td> 0.000</td> <td>  293.223</td> <td>  305.184</td>\n",
       "</tr>\n",
       "<tr>\n",
       "  <th>sqft_living</th>   <td>  194.2983</td> <td>    0.978</td> <td>  198.578</td> <td> 0.000</td> <td>  192.380</td> <td>  196.216</td>\n",
       "</tr>\n",
       "<tr>\n",
       "  <th>grade_num_cat</th> <td>   22.5401</td> <td>    0.870</td> <td>   25.920</td> <td> 0.000</td> <td>   20.836</td> <td>   24.245</td>\n",
       "</tr>\n",
       "<tr>\n",
       "  <th>price_sqft</th>    <td>  174.2001</td> <td>    0.699</td> <td>  249.090</td> <td> 0.000</td> <td>  172.829</td> <td>  175.571</td>\n",
       "</tr>\n",
       "<tr>\n",
       "  <th>0</th>             <td>   88.3355</td> <td>    1.605</td> <td>   55.030</td> <td> 0.000</td> <td>   85.189</td> <td>   91.482</td>\n",
       "</tr>\n",
       "<tr>\n",
       "  <th>1</th>             <td>  104.7903</td> <td>    1.264</td> <td>   82.926</td> <td> 0.000</td> <td>  102.313</td> <td>  107.267</td>\n",
       "</tr>\n",
       "<tr>\n",
       "  <th>2</th>             <td>  106.0777</td> <td>    1.387</td> <td>   76.471</td> <td> 0.000</td> <td>  103.359</td> <td>  108.797</td>\n",
       "</tr>\n",
       "</table>\n",
       "<table class=\"simpletable\">\n",
       "<tr>\n",
       "  <th>Omnibus:</th>       <td>3071.289</td> <th>  Durbin-Watson:     </th> <td>   2.003</td> \n",
       "</tr>\n",
       "<tr>\n",
       "  <th>Prob(Omnibus):</th>  <td> 0.000</td>  <th>  Jarque-Bera (JB):  </th> <td>31319.499</td>\n",
       "</tr>\n",
       "<tr>\n",
       "  <th>Skew:</th>           <td>-0.571</td>  <th>  Prob(JB):          </th> <td>    0.00</td> \n",
       "</tr>\n",
       "<tr>\n",
       "  <th>Kurtosis:</th>       <td> 9.560</td>  <th>  Cond. No.          </th> <td>1.07e+15</td> \n",
       "</tr>\n",
       "</table><br/><br/>Notes:<br/>[1] Standard Errors assume that the covariance matrix of the errors is correctly specified.<br/>[2] The smallest eigenvalue is 3.54e-25. This might indicate that there are<br/>strong multicollinearity problems or that the design matrix is singular."
      ],
      "text/plain": [
       "<class 'statsmodels.iolib.summary.Summary'>\n",
       "\"\"\"\n",
       "                            OLS Regression Results                            \n",
       "==============================================================================\n",
       "Dep. Variable:                  price   R-squared:                       0.906\n",
       "Model:                            OLS   Adj. R-squared:                  0.906\n",
       "Method:                 Least Squares   F-statistic:                 3.274e+04\n",
       "Date:                Thu, 15 Sep 2022   Prob (F-statistic):               0.00\n",
       "Time:                        13:43:10   Log-Likelihood:                -98199.\n",
       "No. Observations:               16952   AIC:                         1.964e+05\n",
       "Df Residuals:                   16946   BIC:                         1.965e+05\n",
       "Df Model:                           5                                         \n",
       "Covariance Type:            nonrobust                                         \n",
       "=================================================================================\n",
       "                    coef    std err          t      P>|t|      [0.025      0.975]\n",
       "---------------------------------------------------------------------------------\n",
       "const           299.2034      3.051     98.058      0.000     293.223     305.184\n",
       "sqft_living     194.2983      0.978    198.578      0.000     192.380     196.216\n",
       "grade_num_cat    22.5401      0.870     25.920      0.000      20.836      24.245\n",
       "price_sqft      174.2001      0.699    249.090      0.000     172.829     175.571\n",
       "0                88.3355      1.605     55.030      0.000      85.189      91.482\n",
       "1               104.7903      1.264     82.926      0.000     102.313     107.267\n",
       "2               106.0777      1.387     76.471      0.000     103.359     108.797\n",
       "==============================================================================\n",
       "Omnibus:                     3071.289   Durbin-Watson:                   2.003\n",
       "Prob(Omnibus):                  0.000   Jarque-Bera (JB):            31319.499\n",
       "Skew:                          -0.571   Prob(JB):                         0.00\n",
       "Kurtosis:                       9.560   Cond. No.                     1.07e+15\n",
       "==============================================================================\n",
       "\n",
       "Notes:\n",
       "[1] Standard Errors assume that the covariance matrix of the errors is correctly specified.\n",
       "[2] The smallest eigenvalue is 3.54e-25. This might indicate that there are\n",
       "strong multicollinearity problems or that the design matrix is singular.\n",
       "\"\"\""
      ]
     },
     "execution_count": 33,
     "metadata": {},
     "output_type": "execute_result"
    }
   ],
   "source": [
    "baseline_model10 = sm.OLS(y_train_kch_1k, sm.add_constant(baseline_constant8))\n",
    "baseline_results10 = baseline_model10.fit()\n",
    "\n",
    "baseline_results10.summary()"
   ]
  },
  {
   "cell_type": "code",
   "execution_count": 34,
   "metadata": {},
   "outputs": [
    {
     "data": {
      "text/html": [
       "<table class=\"simpletable\">\n",
       "<caption>OLS Regression Results</caption>\n",
       "<tr>\n",
       "  <th>Dep. Variable:</th>          <td>price</td>      <th>  R-squared:         </th>  <td>   0.906</td>  \n",
       "</tr>\n",
       "<tr>\n",
       "  <th>Model:</th>                   <td>OLS</td>       <th>  Adj. R-squared:    </th>  <td>   0.906</td>  \n",
       "</tr>\n",
       "<tr>\n",
       "  <th>Method:</th>             <td>Least Squares</td>  <th>  F-statistic:       </th>  <td>3.274e+04</td> \n",
       "</tr>\n",
       "<tr>\n",
       "  <th>Date:</th>             <td>Thu, 15 Sep 2022</td> <th>  Prob (F-statistic):</th>   <td>  0.00</td>   \n",
       "</tr>\n",
       "<tr>\n",
       "  <th>Time:</th>                 <td>13:43:10</td>     <th>  Log-Likelihood:    </th> <td>-2.1530e+05</td>\n",
       "</tr>\n",
       "<tr>\n",
       "  <th>No. Observations:</th>      <td> 16952</td>      <th>  AIC:               </th>  <td>4.306e+05</td> \n",
       "</tr>\n",
       "<tr>\n",
       "  <th>Df Residuals:</th>          <td> 16946</td>      <th>  BIC:               </th>  <td>4.307e+05</td> \n",
       "</tr>\n",
       "<tr>\n",
       "  <th>Df Model:</th>              <td>     5</td>      <th>                     </th>      <td> </td>     \n",
       "</tr>\n",
       "<tr>\n",
       "  <th>Covariance Type:</th>      <td>nonrobust</td>    <th>                     </th>      <td> </td>     \n",
       "</tr>\n",
       "</table>\n",
       "<table class=\"simpletable\">\n",
       "<tr>\n",
       "        <td></td>           <th>coef</th>     <th>std err</th>      <th>t</th>      <th>P>|t|</th>  <th>[0.025</th>    <th>0.975]</th>  \n",
       "</tr>\n",
       "<tr>\n",
       "  <th>const</th>         <td> 2.992e+05</td> <td> 3051.300</td> <td>   98.058</td> <td> 0.000</td> <td> 2.93e+05</td> <td> 3.05e+05</td>\n",
       "</tr>\n",
       "<tr>\n",
       "  <th>sqft_living</th>   <td> 1.943e+05</td> <td>  978.449</td> <td>  198.578</td> <td> 0.000</td> <td> 1.92e+05</td> <td> 1.96e+05</td>\n",
       "</tr>\n",
       "<tr>\n",
       "  <th>grade_num_cat</th> <td> 2.254e+04</td> <td>  869.593</td> <td>   25.920</td> <td> 0.000</td> <td> 2.08e+04</td> <td> 2.42e+04</td>\n",
       "</tr>\n",
       "<tr>\n",
       "  <th>price_sqft</th>    <td> 1.742e+05</td> <td>  699.347</td> <td>  249.090</td> <td> 0.000</td> <td> 1.73e+05</td> <td> 1.76e+05</td>\n",
       "</tr>\n",
       "<tr>\n",
       "  <th>0</th>             <td> 8.834e+04</td> <td> 1605.226</td> <td>   55.030</td> <td> 0.000</td> <td> 8.52e+04</td> <td> 9.15e+04</td>\n",
       "</tr>\n",
       "<tr>\n",
       "  <th>1</th>             <td> 1.048e+05</td> <td> 1263.656</td> <td>   82.926</td> <td> 0.000</td> <td> 1.02e+05</td> <td> 1.07e+05</td>\n",
       "</tr>\n",
       "<tr>\n",
       "  <th>2</th>             <td> 1.061e+05</td> <td> 1387.169</td> <td>   76.471</td> <td> 0.000</td> <td> 1.03e+05</td> <td> 1.09e+05</td>\n",
       "</tr>\n",
       "</table>\n",
       "<table class=\"simpletable\">\n",
       "<tr>\n",
       "  <th>Omnibus:</th>       <td>3071.289</td> <th>  Durbin-Watson:     </th> <td>   2.003</td> \n",
       "</tr>\n",
       "<tr>\n",
       "  <th>Prob(Omnibus):</th>  <td> 0.000</td>  <th>  Jarque-Bera (JB):  </th> <td>31319.499</td>\n",
       "</tr>\n",
       "<tr>\n",
       "  <th>Skew:</th>           <td>-0.571</td>  <th>  Prob(JB):          </th> <td>    0.00</td> \n",
       "</tr>\n",
       "<tr>\n",
       "  <th>Kurtosis:</th>       <td> 9.560</td>  <th>  Cond. No.          </th> <td>1.07e+15</td> \n",
       "</tr>\n",
       "</table><br/><br/>Notes:<br/>[1] Standard Errors assume that the covariance matrix of the errors is correctly specified.<br/>[2] The smallest eigenvalue is 3.54e-25. This might indicate that there are<br/>strong multicollinearity problems or that the design matrix is singular."
      ],
      "text/plain": [
       "<class 'statsmodels.iolib.summary.Summary'>\n",
       "\"\"\"\n",
       "                            OLS Regression Results                            \n",
       "==============================================================================\n",
       "Dep. Variable:                  price   R-squared:                       0.906\n",
       "Model:                            OLS   Adj. R-squared:                  0.906\n",
       "Method:                 Least Squares   F-statistic:                 3.274e+04\n",
       "Date:                Thu, 15 Sep 2022   Prob (F-statistic):               0.00\n",
       "Time:                        13:43:10   Log-Likelihood:            -2.1530e+05\n",
       "No. Observations:               16952   AIC:                         4.306e+05\n",
       "Df Residuals:                   16946   BIC:                         4.307e+05\n",
       "Df Model:                           5                                         \n",
       "Covariance Type:            nonrobust                                         \n",
       "=================================================================================\n",
       "                    coef    std err          t      P>|t|      [0.025      0.975]\n",
       "---------------------------------------------------------------------------------\n",
       "const          2.992e+05   3051.300     98.058      0.000    2.93e+05    3.05e+05\n",
       "sqft_living    1.943e+05    978.449    198.578      0.000    1.92e+05    1.96e+05\n",
       "grade_num_cat  2.254e+04    869.593     25.920      0.000    2.08e+04    2.42e+04\n",
       "price_sqft     1.742e+05    699.347    249.090      0.000    1.73e+05    1.76e+05\n",
       "0              8.834e+04   1605.226     55.030      0.000    8.52e+04    9.15e+04\n",
       "1              1.048e+05   1263.656     82.926      0.000    1.02e+05    1.07e+05\n",
       "2              1.061e+05   1387.169     76.471      0.000    1.03e+05    1.09e+05\n",
       "==============================================================================\n",
       "Omnibus:                     3071.289   Durbin-Watson:                   2.003\n",
       "Prob(Omnibus):                  0.000   Jarque-Bera (JB):            31319.499\n",
       "Skew:                          -0.571   Prob(JB):                         0.00\n",
       "Kurtosis:                       9.560   Cond. No.                     1.07e+15\n",
       "==============================================================================\n",
       "\n",
       "Notes:\n",
       "[1] Standard Errors assume that the covariance matrix of the errors is correctly specified.\n",
       "[2] The smallest eigenvalue is 3.54e-25. This might indicate that there are\n",
       "strong multicollinearity problems or that the design matrix is singular.\n",
       "\"\"\""
      ]
     },
     "execution_count": 34,
     "metadata": {},
     "output_type": "execute_result"
    }
   ],
   "source": [
    "baseline_model9 = sm.OLS(y_train_kch, sm.add_constant(baseline_constant8))\n",
    "baseline_results9 = baseline_model9.fit()\n",
    "\n",
    "baseline_results9.summary()"
   ]
  },
  {
   "cell_type": "markdown",
   "metadata": {},
   "source": [
    "# Evaluate Performance"
   ]
  },
  {
   "cell_type": "code",
   "execution_count": 35,
   "metadata": {},
   "outputs": [
    {
     "data": {
      "text/plain": [
       "array([493072.39525253, 919869.49697746, 232140.27746405, ...,\n",
       "       227672.84455938, 789521.84383224, 557686.74933203])"
      ]
     },
     "execution_count": 35,
     "metadata": {},
     "output_type": "execute_result"
    }
   ],
   "source": [
    "y_hat= lr.predict(X_train_scaled)\n",
    "y_hat"
   ]
  },
  {
   "cell_type": "code",
   "execution_count": 36,
   "metadata": {},
   "outputs": [
    {
     "data": {
      "text/plain": [
       "id\n",
       "1189000910     23927.604747\n",
       "1423089055    -74869.496977\n",
       "6083000050      2859.722536\n",
       "7390400069    -84399.753924\n",
       "9468200100   -127307.876261\n",
       "                  ...      \n",
       "7806210400    -12285.091006\n",
       "3211200140     14691.273386\n",
       "2475200080     40327.155441\n",
       "7504110030     -4521.843832\n",
       "952001495      30313.250668\n",
       "Name: price, Length: 16952, dtype: float64"
      ]
     },
     "execution_count": 36,
     "metadata": {},
     "output_type": "execute_result"
    }
   ],
   "source": [
    "resid=(y_train_kch - y_hat)\n",
    "resid"
   ]
  },
  {
   "cell_type": "code",
   "execution_count": 37,
   "metadata": {},
   "outputs": [
    {
     "data": {
      "image/png": "[encoded data removed]",
      "text/plain": [
       "<Figure size 432x288 with 1 Axes>"
      ]
     },
     "metadata": {},
     "output_type": "display_data"
    }
   ],
   "source": [
    "fig, ax  =plt.subplots()\n",
    "ax.scatter(x=range(y_hat.shape[0]), y=resid, alpha=.1);"
   ]
  },
  {
   "cell_type": "markdown",
   "metadata": {},
   "source": [
    "# Visualizations \n",
    "\n",
    "- mean price per square foot in each zone for a average house"
   ]
  },
  {
   "cell_type": "code",
   "execution_count": 38,
   "metadata": {
    "scrolled": false
   },
   "outputs": [
    {
     "data": {
      "image/png": "[encoded data removed]",
      "text/plain": [
       "<Figure size 432x288 with 1 Axes>"
      ]
     },
     "metadata": {},
     "output_type": "display_data"
    }
   ],
   "source": [
    "sns.set(style='darkgrid')\n",
    "boxplot = sns.boxplot(x=df['zones'], y=df['price_sqft'], linewidth=1.5,notch=True,showfliers=False,\n",
    "                      width =.4, order=['Seattle','Suburbs','Rural']);\n",
    "boxplot.axes.set_title('Price per square foot in King county', fontsize=16)\n",
    "boxplot.set_xlabel('Zones', fontsize=14)\n",
    "boxplot.set_ylabel('Price per square foot', fontsize=14)\n",
    "plt.show()"
   ]
  },
  {
   "cell_type": "code",
   "execution_count": 39,
   "metadata": {},
   "outputs": [
    {
     "data": {
      "image/png": "[encoded data removed]",
      "text/plain": [
       "<Figure size 432x288 with 1 Axes>"
      ]
     },
     "metadata": {},
     "output_type": "display_data"
    }
   ],
   "source": [
    "bargraph = sns.barplot(data=df, x='grade_num', y='price', hue='zones')"
   ]
  },
  {
   "cell_type": "code",
   "execution_count": null,
   "metadata": {},
   "outputs": [],
   "source": []
  }
 ],
 "metadata": {
  "kernelspec": {
   "display_name": "Python 3",
   "language": "python",
   "name": "python3"
  },
  "language_info": {
   "codemirror_mode": {
    "name": "ipython",
    "version": 3
   },
   "file_extension": ".py",
   "mimetype": "text/x-python",
   "name": "python",
   "nbconvert_exporter": "python",
   "pygments_lexer": "ipython3",
   "version": "3.8.5"
  }
 },
 "nbformat": 4,
 "nbformat_minor": 2
}
